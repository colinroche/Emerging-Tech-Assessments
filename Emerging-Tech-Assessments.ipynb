{
 "cells": [
  {
   "cell_type": "markdown",
   "metadata": {},
   "source": [
    "# Task [1] - Calculating the Square Root of 2"
   ]
  },
  {
   "cell_type": "markdown",
   "metadata": {},
   "source": [
    "## Simple calculation using the \"**\" Operator accurate to 15 decimals"
   ]
  },
  {
   "cell_type": "code",
   "execution_count": 1,
   "metadata": {},
   "outputs": [
    {
     "name": "stdout",
     "output_type": "stream",
     "text": [
      "1.4142135623730951454746218587388284504413604736328125\n",
      "1.4142135623730951\n"
     ]
    }
   ],
   "source": [
    "def sqrt2Simp(n):\n",
    "    # the exponentiation\n",
    "    # using the exponent (1/2) on a number is the same as getting it's square root\n",
    "    n  = n**(1/2)\n",
    "    # printing out 100decimals\n",
    "    print(\"{:.100}\".format(n))\n",
    "    # print out normallly\n",
    "    print(n)\n",
    "    \n",
    "sqrt2Simp(2)"
   ]
  },
  {
   "cell_type": "markdown",
   "metadata": {},
   "source": [
    "## Calculating using the Babylonian Method accurate to 10 decimals"
   ]
  },
  {
   "cell_type": "code",
   "execution_count": 2,
   "metadata": {},
   "outputs": [
    {
     "name": "stdout",
     "output_type": "stream",
     "text": [
      "1.4142135623746898698271934335934929549694061279296875\n"
     ]
    },
    {
     "data": {
      "text/plain": [
       "1.4142135623746899"
      ]
     },
     "execution_count": 2,
     "metadata": {},
     "output_type": "execute_result"
    }
   ],
   "source": [
    "def sqrt2B1(n):\n",
    "    \"\"\"\n",
    "    A function to calculate the square root of a number n.\n",
    "    \"\"\"\n",
    "    r = n\n",
    "    x = 0\n",
    "    # setting 10 decimal accurrency\n",
    "    a = 0.0000000001\n",
    "\n",
    "    # Loop until we're happy with the accuracy.\n",
    "    while abs(r - x) > a:\n",
    "        r = (r + x) / 2\n",
    "        x = n / r\n",
    "    print(\"{:.100}\".format(r))\n",
    "    # Return the (approximate) square root of n.\n",
    "    return r\n",
    "\n",
    "sqrt2B1(2)"
   ]
  },
  {
   "cell_type": "markdown",
   "metadata": {},
   "source": [
    "# Task[2] - Chi-Squared Test"
   ]
  },
  {
   "cell_type": "markdown",
   "metadata": {},
   "source": [
    "## Contingency Table\n",
    "***\n",
    "\n",
    "The table provided for this task is an example of a Contingency Table.[1]\n",
    "\n",
    "***\n",
    "- .[1] Contingency Tables, https://en.wikipedia.org/wiki/Contingency_table\n",
    "***\n",
    "###### Wikipedia example of Contigency Table \n",
    "\n",
    "<img style=\"float: left;\" src=\"images/ContigencyTable.PNG\">\n",
    "\n",
    "\n"
   ]
  },
  {
   "cell_type": "code",
   "execution_count": 3,
   "metadata": {},
   "outputs": [
    {
     "data": {
      "text/html": [
       "<div>\n",
       "<style scoped>\n",
       "    .dataframe tbody tr th:only-of-type {\n",
       "        vertical-align: middle;\n",
       "    }\n",
       "\n",
       "    .dataframe tbody tr th {\n",
       "        vertical-align: top;\n",
       "    }\n",
       "\n",
       "    .dataframe thead th {\n",
       "        text-align: right;\n",
       "    }\n",
       "</style>\n",
       "<table border=\"1\" class=\"dataframe\">\n",
       "  <thead>\n",
       "    <tr style=\"text-align: right;\">\n",
       "      <th></th>\n",
       "      <th>A</th>\n",
       "      <th>B</th>\n",
       "      <th>C</th>\n",
       "      <th>D</th>\n",
       "      <th>Total</th>\n",
       "    </tr>\n",
       "    <tr>\n",
       "      <th></th>\n",
       "      <th></th>\n",
       "      <th></th>\n",
       "      <th></th>\n",
       "      <th></th>\n",
       "      <th></th>\n",
       "    </tr>\n",
       "  </thead>\n",
       "  <tbody>\n",
       "    <tr>\n",
       "      <th>White collar</th>\n",
       "      <td>90</td>\n",
       "      <td>60</td>\n",
       "      <td>104</td>\n",
       "      <td>95</td>\n",
       "      <td>349</td>\n",
       "    </tr>\n",
       "    <tr>\n",
       "      <th>Blue collar</th>\n",
       "      <td>30</td>\n",
       "      <td>50</td>\n",
       "      <td>51</td>\n",
       "      <td>20</td>\n",
       "      <td>151</td>\n",
       "    </tr>\n",
       "    <tr>\n",
       "      <th>No collar</th>\n",
       "      <td>30</td>\n",
       "      <td>40</td>\n",
       "      <td>45</td>\n",
       "      <td>35</td>\n",
       "      <td>150</td>\n",
       "    </tr>\n",
       "    <tr>\n",
       "      <th>Total</th>\n",
       "      <td>150</td>\n",
       "      <td>150</td>\n",
       "      <td>200</td>\n",
       "      <td>150</td>\n",
       "      <td>650</td>\n",
       "    </tr>\n",
       "  </tbody>\n",
       "</table>\n",
       "</div>"
      ],
      "text/plain": [
       "                A    B    C    D  Total\n",
       "                                       \n",
       "White collar   90   60  104   95    349\n",
       "Blue collar    30   50   51   20    151\n",
       "No collar      30   40   45   35    150\n",
       "Total         150  150  200  150    650"
      ]
     },
     "execution_count": 3,
     "metadata": {},
     "output_type": "execute_result"
    }
   ],
   "source": [
    "\"\"\"\n",
    "The display of Contingency Table for ease of reading\n",
    "\"\"\"\n",
    "\n",
    "# Data frames\n",
    "import pandas as pd \n",
    "\n",
    "data = {'': ['White collar', 'Blue collar', 'No collar'],\n",
    "        'A':[90, 30, 30],\n",
    "        'B':[60, 50, 40], \n",
    "        'C':[104, 51, 45], \n",
    "        'D':[95, 20, 35]}\n",
    "\n",
    "#Setting value to index\n",
    "df = pd.DataFrame(data).set_index('')\n",
    "\n",
    "#Total sum per column: \n",
    "df.loc['Total']= df.sum(axis=0)\n",
    "\n",
    "#Total sum per row: \n",
    "df['Total'] = df.sum(axis=1)\n",
    "\n",
    "df"
   ]
  },
  {
   "cell_type": "markdown",
   "metadata": {},
   "source": [
    "## Calculating the Chi-Square and P values\n",
    "***\n",
    "Scipy.stats contains multiple functions to calculate the Chi-Square value.[1]\n",
    "\n",
    "Do to the fact the table given is an example of a Contingency Table, I thought it appropriate to contingency function chi2_contingency(observed, correction=True, lambda_=None).[2].  Only the observed is needed in this case.\n",
    "\n",
    "This function returns the test statistic, p-value, degree of freedom and expected frequencies.  Only the first 2 are necessary for this task.\n",
    "\n",
    "\n",
    "***\n",
    "- .[1] Documentation for scipy.stats, https://docs.scipy.org/doc/scipy/reference/stats.html  \n",
    "- .[2] Function for Chi-square test of independence of variables in a contingency table, https://docs.scipy.org/doc/scipy/reference/generated/scipy.stats.chi2_contingency.html#scipy.stats.chi2_contingency\n",
    "***"
   ]
  },
  {
   "cell_type": "code",
   "execution_count": 4,
   "metadata": {},
   "outputs": [
    {
     "name": "stdout",
     "output_type": "stream",
     "text": [
      "Approximate Chi-squared value: 24.6\n",
      "Actual Chi-squared value: 24.571202858582602\n",
      "\n",
      "P-Value: 0.0004098425861096692\n",
      "P_Value: 0.00\n"
     ]
    }
   ],
   "source": [
    "#Statistics package\n",
    "import scipy.stats as ss\n",
    "\n",
    "#Observed Data\n",
    "obsData = [[90, 30, 30],\n",
    "         [60, 50, 40],\n",
    "         [104, 51, 45],\n",
    "         [95, 20, 35]]\n",
    "\n",
    "#chi2_contingency - Chi-square test of independence of variables in a contingency table\n",
    "stat, p, dof, expected  = ss.chi2_contingency(obsData)\n",
    "\n",
    "print(f\"Approximate Chi-squared value: {stat:0.1f}\")\n",
    "print('Actual Chi-squared value:', stat)\n",
    "\n",
    "print('\\nP-Value:', p)\n",
    "print(f\"P_Value: {p:0.2f}\")\n"
   ]
  },
  {
   "cell_type": "markdown",
   "metadata": {},
   "source": [
    "***\n",
    "# Task[3] - Excels functions for Standard Deviation"
   ]
  },
  {
   "cell_type": "markdown",
   "metadata": {},
   "source": [
    "## Setting data sets of Population and Samples\n",
    "***"
   ]
  },
  {
   "cell_type": "markdown",
   "metadata": {},
   "source": [
    "### STDEV.P\n",
    "***\n",
    "\n",
    "Returns an estimation for the standard deviation of a population, this is when the full data set is known.  An example of this if the data set was a sensis of the entire population of a country.\n",
    "\n",
    "STDEV.P calculates the standard deviation of a data set, it does this by using the \"n\" method which is as follows:\n",
    "\n",
    "<img style=\"float: left;\" src=\"images/StandardDeviation.gif\" width=\"200\" height=\"100\"/>\n"
   ]
  },
  {
   "cell_type": "markdown",
   "metadata": {},
   "source": [
    "### STDEV.S\n",
    "***\n",
    "\n",
    "Returns an estimation for the standard devaition of a sample, this is when you have part of a data set is known. An example of this would be a survey of set of people in a country, this may be region or other.\n",
    "\n",
    "STDEV.S uses a similiar formula to the one above but instead of dividing by \"N\" it divides \"N-1\".  This is known as \"Bessel's Correction\".[1]\n",
    "\n",
    "- .[1] Bessel's Correction, https://en.wikipedia.org/wiki/Bessel%27s_correction\n"
   ]
  },
  {
   "cell_type": "code",
   "execution_count": 5,
   "metadata": {},
   "outputs": [
    {
     "name": "stdout",
     "output_type": "stream",
     "text": [
      "Population A:\n",
      "[ 0.92450245  0.36876364  1.063206    1.36354811  1.42645766  0.80754531\n",
      "  1.14592149  0.37419126  0.77629003  1.26091681  0.95565847  0.93252932\n",
      "  0.73168724  0.93678559  0.63423187  0.58085825  0.65876517  0.62035014\n",
      "  0.73120273  1.29153044  1.06419298  0.7425439  -0.09544081  0.55693081\n",
      "  0.97112676  1.08407103  0.55273501  0.72232322  0.92731881  1.26472211\n",
      "  0.9269591   1.51694759  1.25221203  1.08059861  0.76951635  0.77820956\n",
      "  1.15312428  0.94514075  1.03280497  0.54179947  1.199792    0.83462444\n",
      "  0.33060415  1.30649933  1.26558905  0.92408166  0.89427538  0.7550916\n",
      "  1.17100539  1.24888646]\n"
     ]
    }
   ],
   "source": [
    "'''\n",
    "Using numpy to create a random data set for the population.\n",
    "'''\n",
    "\n",
    "# Efficient numerical arrays.\n",
    "import numpy as np\n",
    "\n",
    "# Setting the mean, standard deviation and size of populaiton\n",
    "m_a, s_a = 1.0, 0.4\n",
    "N = 50\n",
    "\n",
    "# Population data set\n",
    "a = np.random.normal(m_a, s_a, N)\n",
    "\n",
    "# Printing the population data set\n",
    "print(\"Population A:\")\n",
    "print(a)"
   ]
  },
  {
   "cell_type": "code",
   "execution_count": 6,
   "metadata": {},
   "outputs": [
    {
     "name": "stdout",
     "output_type": "stream",
     "text": [
      "Standard Deviation of Population A: 0.3167\n"
     ]
    }
   ],
   "source": [
    "'''\n",
    "Standard deviation of population using the equivalent of Excels STDEV.P.\n",
    "'''\n",
    "# Standard deviation for population\n",
    "sd = np.std(a)\n",
    "\n",
    "print(f\"Standard Deviation of Population A: {sd:0.4f}\")"
   ]
  },
  {
   "cell_type": "code",
   "execution_count": 7,
   "metadata": {},
   "outputs": [
    {
     "name": "stdout",
     "output_type": "stream",
     "text": [
      "Sample 1:\n",
      "[ 1.08059861  1.42645766  1.03280497  1.06419298  0.92450245  1.26558905\n",
      "  0.7550916   0.95565847  0.55693081 -0.09544081  1.30649933  0.93252932\n",
      "  0.9269591   1.24888646  0.33060415  0.36876364  1.36354811  1.25221203\n",
      "  0.73120273  0.89427538  1.08407103  0.92731881  1.14592149  1.51694759\n",
      "  0.77820956  0.97112676  0.55273501  1.26472211  1.199792    1.063206  ]\n"
     ]
    }
   ],
   "source": [
    "'''\n",
    "Getting random sample set from population.\n",
    "'''\n",
    "\n",
    "# Setting size of sample\n",
    "n1 = 30\n",
    "\n",
    "# Sample data set from poplution\n",
    "sample_1 = np.random.choice(a, n1, replace=False)\n",
    "\n",
    "# Printing the sample data set\n",
    "print(\"Sample 1:\")\n",
    "print(sample_1)"
   ]
  },
  {
   "cell_type": "code",
   "execution_count": 8,
   "metadata": {},
   "outputs": [
    {
     "name": "stdout",
     "output_type": "stream",
     "text": [
      "Sample 1:\n",
      "Standard Deviation using STDEV.P: 0.3483\n",
      "Standard Deviation using STDEV.S: 0.3542\n"
     ]
    }
   ],
   "source": [
    "'''\n",
    "Standard deviation of sample 1 using the equivalent of Excels STDEV.P and STDEV.S.\n",
    "'''\n",
    "\n",
    "# Standard deviation using STDEV.P\n",
    "sdp_samp_1 = np.sqrt(np.sum((sample_1 - np.mean(sample_1))**2)/len(sample_1))\n",
    "# Standard deviation using STDEV.S\n",
    "sds_samp_1 = np.sqrt(np.sum((sample_1 - np.mean(sample_1))**2)/(len(sample_1)-1))\n",
    "\n",
    "\n",
    "print(\"Sample 1:\")\n",
    "print(f\"Standard Deviation using STDEV.P: {sdp_samp_1:0.4f}\")\n",
    "print(f\"Standard Deviation using STDEV.S: {sds_samp_1:0.4f}\")"
   ]
  },
  {
   "cell_type": "code",
   "execution_count": 9,
   "metadata": {},
   "outputs": [
    {
     "name": "stdout",
     "output_type": "stream",
     "text": [
      "Sample 2:\n",
      "[0.73168724 0.65876517 1.24888646 1.199792   0.63423187 0.92408166\n",
      " 1.30649933 1.15312428 0.80754531 1.14592149 1.42645766 0.55693081\n",
      " 1.25221203 1.08059861 0.93678559 0.94514075 1.06419298 1.063206\n",
      " 0.55273501 0.76951635]\n"
     ]
    }
   ],
   "source": [
    "'''\n",
    "Getting second random sample set from population.\n",
    "'''\n",
    "\n",
    "# Setting size of sample\n",
    "n2 = 20\n",
    "\n",
    "# Sample data set from poplution\n",
    "sample_2 = np.random.choice(a, n2, replace=False)\n",
    "\n",
    "# Printing the sample data set\n",
    "print(\"Sample 2:\")\n",
    "print(sample_2)"
   ]
  },
  {
   "cell_type": "code",
   "execution_count": 10,
   "metadata": {},
   "outputs": [
    {
     "name": "stdout",
     "output_type": "stream",
     "text": [
      "Sample 2:\n",
      "Standard Deviation using STDEV.P: 0.2557\n",
      "Standard Deviation using STDEV.S: 0.2623\n"
     ]
    }
   ],
   "source": [
    "'''\n",
    "Standard deviation of sample 2 using the equivalent of Excels STDEV.P and STDEV.S.\n",
    "'''\n",
    "\n",
    "# Standard deviation using STDEV.P\n",
    "sdp_samp_2 = np.sqrt(np.sum((sample_2 - np.mean(sample_2))**2)/len(sample_2))\n",
    "# Standard deviation using STDEV.S\n",
    "sds_samp_2 = np.sqrt(np.sum((sample_2 - np.mean(sample_2))**2)/(len(sample_2)-1))\n",
    "\n",
    "print(\"Sample 2:\")\n",
    "print(f\"Standard Deviation using STDEV.P: {sdp_samp_2:0.4f}\")\n",
    "print(f\"Standard Deviation using STDEV.S: {sds_samp_2:0.4f}\")  "
   ]
  },
  {
   "cell_type": "markdown",
   "metadata": {},
   "source": [
    "### Conclusion\n",
    "***\n",
    "\n",
    "In this example, the Standard Deviation of the entire population using STDEV.P is \"0.3666\".\n",
    "\n",
    "First sample STDEV.P = \"0.3299\", STDEV.S = \"0.3355\".<br>\n",
    "Second sample STDEV.P = \"0.3516\", STDEV.S = \"0.3607\".\n",
    "\n",
    "In both of these situation using STDEV.S gave us a standard deviation that was closer to the populations true standard deviation."
   ]
  },
  {
   "cell_type": "markdown",
   "metadata": {},
   "source": [
    "# Task[4] - Iris data set"
   ]
  },
  {
   "cell_type": "code",
   "execution_count": 48,
   "metadata": {},
   "outputs": [],
   "source": [
    "# Numerical arrays.\n",
    "import numpy as np\n",
    "\n",
    "# Plotting.\n",
    "import matplotlib.pyplot as plt\n",
    "\n",
    "# Machine learning - kmeans.\n",
    "import sklearn.cluster as skcl\n",
    "\n",
    "# Datasets - Iris.\n",
    "import sklearn.datasets as skds"
   ]
  },
  {
   "cell_type": "markdown",
   "metadata": {},
   "source": [
    "https://en.wikipedia.org/wiki/Iris_flower_data_set#<br>\n",
    "https://scikit-learn.org/stable/modules/generated/sklearn.datasets.load_iris.html"
   ]
  },
  {
   "cell_type": "code",
   "execution_count": 143,
   "metadata": {},
   "outputs": [
    {
     "data": {
      "text/plain": [
       "[<matplotlib.lines.Line2D at 0x25e71f37730>,\n",
       " <matplotlib.lines.Line2D at 0x25e71f37760>,\n",
       " <matplotlib.lines.Line2D at 0x25e71f377c0>,\n",
       " <matplotlib.lines.Line2D at 0x25e71f37880>]"
      ]
     },
     "execution_count": 143,
     "metadata": {},
     "output_type": "execute_result"
    },
    {
     "data": {
      "image/png": "[encoded data removed]",
      "text/plain": [
       "<Figure size 432x288 with 1 Axes>"
      ]
     },
     "metadata": {
      "needs_background": "light"
     },
     "output_type": "display_data"
    }
   ],
   "source": [
    "# Iris data set.\n",
    "iris = skds.load_iris()\n",
    "iris\n",
    "\n",
    "dataSet = iris.data\n",
    "target = iris.target\n",
    "target_names = iris.target_names\n",
    "\n",
    "plt.plot(dataSet, target, 'x')"
   ]
  },
  {
   "cell_type": "markdown",
   "metadata": {},
   "source": [
    "https://scikit-learn.org/stable/modules/generated/sklearn.cluster.KMeans.html"
   ]
  },
  {
   "cell_type": "code",
   "execution_count": 144,
   "metadata": {},
   "outputs": [],
   "source": [
    "# Perform kmeans fitting.\n",
    "kmeans = skcl.KMeans(n_clusters=3, random_state=0).fit(dataSet)"
   ]
  },
  {
   "cell_type": "code",
   "execution_count": 145,
   "metadata": {},
   "outputs": [
    {
     "data": {
      "text/plain": [
       "array([1, 1, 1, 1, 1, 1, 1, 1, 1, 1, 1, 1, 1, 1, 1, 1, 1, 1, 1, 1, 1, 1,\n",
       "       1, 1, 1, 1, 1, 1, 1, 1, 1, 1, 1, 1, 1, 1, 1, 1, 1, 1, 1, 1, 1, 1,\n",
       "       1, 1, 1, 1, 1, 1, 2, 2, 0, 2, 2, 2, 2, 2, 2, 2, 2, 2, 2, 2, 2, 2,\n",
       "       2, 2, 2, 2, 2, 2, 2, 2, 2, 2, 2, 0, 2, 2, 2, 2, 2, 2, 2, 2, 2, 2,\n",
       "       2, 2, 2, 2, 2, 2, 2, 2, 2, 2, 2, 2, 0, 2, 0, 0, 0, 0, 2, 0, 0, 0,\n",
       "       0, 0, 0, 2, 2, 0, 0, 0, 0, 2, 0, 2, 0, 2, 0, 0, 2, 2, 0, 0, 0, 0,\n",
       "       0, 2, 0, 0, 0, 0, 2, 0, 0, 0, 2, 0, 0, 0, 2, 0, 0, 2])"
      ]
     },
     "execution_count": 145,
     "metadata": {},
     "output_type": "execute_result"
    }
   ],
   "source": [
    "# Labels of the point.\n",
    "labels = kmeans.labels_\n",
    "labels"
   ]
  },
  {
   "cell_type": "code",
   "execution_count": 146,
   "metadata": {},
   "outputs": [
    {
     "data": {
      "text/plain": [
       "array([1, 0])"
      ]
     },
     "execution_count": 146,
     "metadata": {},
     "output_type": "execute_result"
    }
   ],
   "source": [
    "# Predict the closest cluster each sample in dataSet belongs to.\n",
    "kmeans.predict([[0, 0, 0, 0], [12, 3, 15, 6]])"
   ]
  },
  {
   "cell_type": "code",
   "execution_count": 147,
   "metadata": {},
   "outputs": [
    {
     "data": {
      "text/plain": [
       "array([[6.85      , 3.07368421, 5.74210526, 2.07105263],\n",
       "       [5.006     , 3.428     , 1.462     , 0.246     ],\n",
       "       [5.9016129 , 2.7483871 , 4.39354839, 1.43387097]])"
      ]
     },
     "execution_count": 147,
     "metadata": {},
     "output_type": "execute_result"
    }
   ],
   "source": [
    "kmeans.cluster_centers_"
   ]
  },
  {
   "cell_type": "code",
   "execution_count": 148,
   "metadata": {},
   "outputs": [
    {
     "data": {
      "text/plain": [
       "[<matplotlib.lines.Line2D at 0x25e72092ca0>]"
      ]
     },
     "execution_count": 148,
     "metadata": {},
     "output_type": "execute_result"
    },
    {
     "data": {
      "image/png": "[encoded data removed]",
      "text/plain": [
       "<Figure size 432x288 with 1 Axes>"
      ]
     },
     "metadata": {
      "needs_background": "light"
     },
     "output_type": "display_data"
    }
   ],
   "source": [
    "plt.plot(dataSet[:,0], labels, 'bx') # sepal length\n",
    "plt.plot(dataSet[:,1], labels, 'yx') # sepal width\n",
    "plt.plot(dataSet[:,2], labels, 'gx') # petal length\n",
    "plt.plot(dataSet[:,3], labels, 'rx') # petal width"
   ]
  },
  {
   "cell_type": "markdown",
   "metadata": {},
   "source": [
    "# Data frames\n",
    "import pandas as pd\n",
    "\n",
    "df = pd.crosstab(target, klabels)\n",
    "#df.reindex(columns=[1,2,0])\n",
    "df\n",
    "#df.columns\n",
    "\n",
    "\n",
    "***\n",
    "# End"
   ]
  }
 ],
 "metadata": {
  "kernelspec": {
   "display_name": "Python 3",
   "language": "python",
   "name": "python3"
  },
  "language_info": {
   "codemirror_mode": {
    "name": "ipython",
    "version": 3
   },
   "file_extension": ".py",
   "mimetype": "text/x-python",
   "name": "python",
   "nbconvert_exporter": "python",
   "pygments_lexer": "ipython3",
   "version": "3.8.5"
  }
 },
 "nbformat": 4,
 "nbformat_minor": 4
}
