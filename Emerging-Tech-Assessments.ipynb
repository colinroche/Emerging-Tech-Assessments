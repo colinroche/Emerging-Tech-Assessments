{
 "cells": [
  {
   "cell_type": "markdown",
   "metadata": {},
   "source": [
    "# Task [1] - Calculating the Square Root of 2"
   ]
  },
  {
   "cell_type": "markdown",
   "metadata": {},
   "source": [
    "## Simple calculation using the \"**\" Operator accurate to 15 decimals"
   ]
  },
  {
   "cell_type": "code",
   "execution_count": 1,
   "metadata": {},
   "outputs": [],
   "source": [
    "def sqrt2Simp(n):\n",
    "    # the exponentiation\n",
    "    # using the exponent (1/2) on a number is the same as getting it's square root\n",
    "    n  = n**(1/2)\n",
    "    # printing out 100decimals\n",
    "    print(\"{:.100}\".format(n))\n",
    "    # print out normallly\n",
    "    print(n)\n",
    "    \n",
    "sqrt2Simp(2)"
   ]
  },
  {
   "cell_type": "markdown",
   "metadata": {},
   "source": [
    "## Calculating using the Babylonian Method accurate to 10 decimals"
   ]
  },
  {
   "cell_type": "code",
   "execution_count": 2,
   "metadata": {},
   "outputs": [],
   "source": [
    "def sqrt2B1(n):\n",
    "    \"\"\"\n",
    "    A function to calculate the square root of a number n.\n",
    "    \"\"\"\n",
    "    r = n\n",
    "    x = 0\n",
    "    # setting 10 decimal accurrency\n",
    "    a = 0.0000000001\n",
    "\n",
    "    # Loop until we're happy with the accuracy.\n",
    "    while abs(r - x) > a:\n",
    "        r = (r + x) / 2\n",
    "        x = n / r\n",
    "    print(\"{:.100}\".format(r))\n",
    "    # Return the (approximate) square root of n.\n",
    "    return r\n",
    "\n",
    "sqrt2B1(2)"
   ]
  },
  {
   "cell_type": "markdown",
   "metadata": {},
   "source": [
    "# Task[2] - Chi-Squared Test"
   ]
  },
  {
   "cell_type": "markdown",
   "metadata": {},
   "source": [
    "## Contingency Table\n",
    "***\n",
    "\n",
    "The table provided for this task is an example of a Contingency Table.[1]\n",
    "\n",
    "***\n",
    "- .[1] Contingency Tables, https://en.wikipedia.org/wiki/Contingency_table\n",
    "***\n",
    "###### Wikipedia example of Contigency Table \n",
    "\n",
    "<img style=\"float: left;\" src=\"images/ContigencyTable.PNG\">\n",
    "\n",
    "\n"
   ]
  },
  {
   "cell_type": "code",
   "execution_count": 3,
   "metadata": {},
   "outputs": [
    {
     "data": {
      "text/html": [
       "<div>\n",
       "<style scoped>\n",
       "    .dataframe tbody tr th:only-of-type {\n",
       "        vertical-align: middle;\n",
       "    }\n",
       "\n",
       "    .dataframe tbody tr th {\n",
       "        vertical-align: top;\n",
       "    }\n",
       "\n",
       "    .dataframe thead th {\n",
       "        text-align: right;\n",
       "    }\n",
       "</style>\n",
       "<table border=\"1\" class=\"dataframe\">\n",
       "  <thead>\n",
       "    <tr style=\"text-align: right;\">\n",
       "      <th></th>\n",
       "      <th>A</th>\n",
       "      <th>B</th>\n",
       "      <th>C</th>\n",
       "      <th>D</th>\n",
       "      <th>Total</th>\n",
       "    </tr>\n",
       "    <tr>\n",
       "      <th></th>\n",
       "      <th></th>\n",
       "      <th></th>\n",
       "      <th></th>\n",
       "      <th></th>\n",
       "      <th></th>\n",
       "    </tr>\n",
       "  </thead>\n",
       "  <tbody>\n",
       "    <tr>\n",
       "      <th>White collar</th>\n",
       "      <td>90</td>\n",
       "      <td>60</td>\n",
       "      <td>104</td>\n",
       "      <td>95</td>\n",
       "      <td>349</td>\n",
       "    </tr>\n",
       "    <tr>\n",
       "      <th>Blue collar</th>\n",
       "      <td>30</td>\n",
       "      <td>50</td>\n",
       "      <td>51</td>\n",
       "      <td>20</td>\n",
       "      <td>151</td>\n",
       "    </tr>\n",
       "    <tr>\n",
       "      <th>No collar</th>\n",
       "      <td>30</td>\n",
       "      <td>40</td>\n",
       "      <td>45</td>\n",
       "      <td>35</td>\n",
       "      <td>150</td>\n",
       "    </tr>\n",
       "    <tr>\n",
       "      <th>Total</th>\n",
       "      <td>150</td>\n",
       "      <td>150</td>\n",
       "      <td>200</td>\n",
       "      <td>150</td>\n",
       "      <td>650</td>\n",
       "    </tr>\n",
       "  </tbody>\n",
       "</table>\n",
       "</div>"
      ],
      "text/plain": [
       "                A    B    C    D  Total\n",
       "                                       \n",
       "White collar   90   60  104   95    349\n",
       "Blue collar    30   50   51   20    151\n",
       "No collar      30   40   45   35    150\n",
       "Total         150  150  200  150    650"
      ]
     },
     "execution_count": 3,
     "metadata": {},
     "output_type": "execute_result"
    }
   ],
   "source": [
    "\"\"\"\n",
    "The display of Contingency Table for ease of reading\n",
    "\"\"\"\n",
    "\n",
    "# Data frames\n",
    "import pandas as pd \n",
    "\n",
    "data = {'': ['White collar', 'Blue collar', 'No collar'],\n",
    "        'A':[90, 30, 30],\n",
    "        'B':[60, 50, 40], \n",
    "        'C':[104, 51, 45], \n",
    "        'D':[95, 20, 35]}\n",
    "\n",
    "#Setting value to index\n",
    "df = pd.DataFrame(data).set_index('')\n",
    "\n",
    "#Total sum per column: \n",
    "df.loc['Total']= df.sum(axis=0)\n",
    "\n",
    "#Total sum per row: \n",
    "df['Total'] = df.sum(axis=1)\n",
    "\n",
    "df"
   ]
  },
  {
   "cell_type": "markdown",
   "metadata": {},
   "source": [
    "## Calculating the Chi-Square and P values\n",
    "***\n",
    "Scipy.stats contains multiple functions to calculate the Chi-Square value.[1]\n",
    "\n",
    "Do to the fact the table given is an example of a Contingency Table, I thought it appropriate to contingency function chi2_contingency(observed, correction=True, lambda_=None).[2].  Only the observed is needed in this case.\n",
    "\n",
    "This function returns the test statistic, p-value, degree of freedom and expected frequencies.  Only the first 2 are necessary for this task.\n",
    "\n",
    "\n",
    "***\n",
    "- .[1] Documentation for scipy.stats, https://docs.scipy.org/doc/scipy/reference/stats.html  \n",
    "- .[2] Function for Chi-square test of independence of variables in a contingency table, https://docs.scipy.org/doc/scipy/reference/generated/scipy.stats.chi2_contingency.html#scipy.stats.chi2_contingency\n",
    "***"
   ]
  },
  {
   "cell_type": "code",
   "execution_count": 4,
   "metadata": {},
   "outputs": [
    {
     "name": "stdout",
     "output_type": "stream",
     "text": [
      "Approximate Chi-squared value: 24.6\n",
      "Actual Chi-squared value: 24.571202858582602\n",
      "\n",
      "P-Value: 0.0004098425861096692\n",
      "P_Value: 0.00\n"
     ]
    }
   ],
   "source": [
    "#Statistics package\n",
    "import scipy.stats as ss\n",
    "\n",
    "#Observed Data\n",
    "obsData = [[90, 30, 30],\n",
    "         [60, 50, 40],\n",
    "         [104, 51, 45],\n",
    "         [95, 20, 35]]\n",
    "\n",
    "#chi2_contingency - Chi-square test of independence of variables in a contingency table\n",
    "stat, p, dof, expected  = ss.chi2_contingency(obsData)\n",
    "\n",
    "print(f\"Approximate Chi-squared value: {stat:0.1f}\")\n",
    "print('Actual Chi-squared value:', stat)\n",
    "\n",
    "print('\\nP-Value:', p)\n",
    "print(f\"P_Value: {p:0.2f}\")\n"
   ]
  },
  {
   "cell_type": "markdown",
   "metadata": {},
   "source": [
    "***\n",
    "# Task[3] - Excels functions for Standard Deviation"
   ]
  },
  {
   "cell_type": "markdown",
   "metadata": {},
   "source": [
    "## Setting data sets of Population and Samples\n",
    "***"
   ]
  },
  {
   "cell_type": "markdown",
   "metadata": {},
   "source": [
    "### STDEV.P\n",
    "***\n",
    "\n",
    "Returns an estimation for the standard deviation of a population, this is when the full data set is known.  An example of this if the data set was a sensis of the entire population of a country.\n",
    "\n",
    "STDEV.P calculates the standard deviation of a data set, it does this by using the \"n\" method which is as follows:\n",
    "\n",
    "<img style=\"float: left;\" src=\"images/StandardDeviation.gif\" width=\"200\" height=\"100\"/>\n"
   ]
  },
  {
   "cell_type": "markdown",
   "metadata": {},
   "source": [
    "### STDEV.S\n",
    "***\n",
    "\n",
    "Returns an estimation for the standard devaition of a sample, this is when you have part of a data set is known. An example of this would be a survey of set of people in a country, this may be region or other.\n",
    "\n",
    "STDEV.S uses a similiar formula to the one above but instead of dividing by \"N\" it divides \"N-1\".  This is known as \"Bessel's Correction\".[1]\n",
    "\n",
    "- .[1] Bessel's Correction, https://en.wikipedia.org/wiki/Bessel%27s_correction\n"
   ]
  },
  {
   "cell_type": "code",
   "execution_count": 5,
   "metadata": {},
   "outputs": [
    {
     "name": "stdout",
     "output_type": "stream",
     "text": [
      "Population A:\n",
      "[0.99913179 0.5773085  1.19784079 1.41469541 0.83011583 0.24185186\n",
      " 1.40735568 1.05139832 0.83702752 0.72631697 1.66200551 0.27447262\n",
      " 1.21165189 0.09697408 1.15633498 1.00144178 1.44351582 0.80430669\n",
      " 0.57732684 1.09330948 1.00835732 0.34951638 0.66781525 0.97894814\n",
      " 0.65815564 1.0909824  1.06139421 0.62458523 1.02584175 0.44533092\n",
      " 1.25847614 0.99365162 0.85787467 0.86750781 1.29306071 0.30709301\n",
      " 1.13631635 1.56124614 0.85146775 1.12006187 1.27944752 1.36010121\n",
      " 0.78446863 1.47810869 0.75411658 0.74936032 1.6194834  1.33185021\n",
      " 0.72162027 0.85100743]\n"
     ]
    }
   ],
   "source": [
    "'''\n",
    "Using numpy to create a random data set for the population.\n",
    "'''\n",
    "\n",
    "# Efficient numerical arrays.\n",
    "import numpy as np\n",
    "\n",
    "# Setting the mean, standard deviation and size of populaiton\n",
    "m_a, s_a = 1.0, 0.4\n",
    "N = 50\n",
    "\n",
    "# Population data set\n",
    "a = np.random.normal(m_a, s_a, N)\n",
    "\n",
    "# Printing the population data set\n",
    "print(\"Population A:\")\n",
    "print(a)"
   ]
  },
  {
   "cell_type": "code",
   "execution_count": 6,
   "metadata": {},
   "outputs": [
    {
     "name": "stdout",
     "output_type": "stream",
     "text": [
      "Standard Deviation of Population A: 0.3683\n"
     ]
    }
   ],
   "source": [
    "'''\n",
    "Standard deviation of population using the equivalent of Excels STDEV.P.\n",
    "'''\n",
    "# Standard deviation for population\n",
    "sd = np.std(a)\n",
    "\n",
    "print(f\"Standard Deviation of Population A: {sd:0.4f}\")"
   ]
  },
  {
   "cell_type": "code",
   "execution_count": 7,
   "metadata": {},
   "outputs": [
    {
     "name": "stdout",
     "output_type": "stream",
     "text": [
      "Sample 1:\n",
      "[1.44351582 0.72631697 1.0909824  1.25847614 0.5773085  0.34951638\n",
      " 1.66200551 1.00835732 1.05139832 0.66781525 1.09330948 0.78446863\n",
      " 1.47810869 0.99913179 1.21165189 0.83702752 0.72162027 0.85100743\n",
      " 1.00144178 1.27944752 1.41469541 1.33185021 1.40735568 0.09697408\n",
      " 0.99365162 0.62458523 0.86750781 0.65815564 1.6194834  0.85146775]\n"
     ]
    }
   ],
   "source": [
    "'''\n",
    "Getting random sample set from population.\n",
    "'''\n",
    "\n",
    "# Setting size of sample\n",
    "n1 = 30\n",
    "\n",
    "# Sample data set from poplution\n",
    "sample_1 = np.random.choice(a, n1, replace=False)\n",
    "\n",
    "# Printing the sample data set\n",
    "print(\"Sample 1:\")\n",
    "print(sample_1)"
   ]
  },
  {
   "cell_type": "code",
   "execution_count": 8,
   "metadata": {},
   "outputs": [
    {
     "name": "stdout",
     "output_type": "stream",
     "text": [
      "Sample 1:\n",
      "Standard Deviation using STDEV.P: 0.3641\n",
      "Standard Deviation using STDEV.S: 0.3703\n"
     ]
    }
   ],
   "source": [
    "'''\n",
    "Standard deviation of sample 1 using the equivalent of Excels STDEV.P and STDEV.S.\n",
    "'''\n",
    "\n",
    "# Standard deviation using STDEV.P\n",
    "sdp_samp_1 = np.sqrt(np.sum((sample_1 - np.mean(sample_1))**2)/len(sample_1))\n",
    "# Standard deviation using STDEV.S\n",
    "sds_samp_1 = np.sqrt(np.sum((sample_1 - np.mean(sample_1))**2)/(len(sample_1)-1))\n",
    "\n",
    "\n",
    "print(\"Sample 1:\")\n",
    "print(f\"Standard Deviation using STDEV.P: {sdp_samp_1:0.4f}\")\n",
    "print(f\"Standard Deviation using STDEV.S: {sds_samp_1:0.4f}\")"
   ]
  },
  {
   "cell_type": "code",
   "execution_count": 9,
   "metadata": {},
   "outputs": [
    {
     "name": "stdout",
     "output_type": "stream",
     "text": [
      "Sample 2:\n",
      "[0.44533092 1.56124614 1.29306071 1.36010121 0.27447262 1.19784079\n",
      " 0.74936032 0.85146775 1.13631635 0.72162027 1.00835732 0.85787467\n",
      " 0.75411658 1.00144178 0.86750781 0.34951638 1.21165189 0.85100743\n",
      " 1.47810869 1.6194834 ]\n"
     ]
    }
   ],
   "source": [
    "'''\n",
    "Getting second random sample set from population.\n",
    "'''\n",
    "\n",
    "# Setting size of sample\n",
    "n2 = 20\n",
    "\n",
    "# Sample data set from poplution\n",
    "sample_2 = np.random.choice(a, n2, replace=False)\n",
    "\n",
    "# Printing the sample data set\n",
    "print(\"Sample 2:\")\n",
    "print(sample_2)"
   ]
  },
  {
   "cell_type": "code",
   "execution_count": 10,
   "metadata": {},
   "outputs": [
    {
     "name": "stdout",
     "output_type": "stream",
     "text": [
      "Sample 2:\n",
      "Standard Deviation using STDEV.P: 0.3726\n",
      "Standard Deviation using STDEV.S: 0.3823\n"
     ]
    }
   ],
   "source": [
    "'''\n",
    "Standard deviation of sample 2 using the equivalent of Excels STDEV.P and STDEV.S.\n",
    "'''\n",
    "\n",
    "# Standard deviation using STDEV.P\n",
    "sdp_samp_2 = np.sqrt(np.sum((sample_2 - np.mean(sample_2))**2)/len(sample_2))\n",
    "# Standard deviation using STDEV.S\n",
    "sds_samp_2 = np.sqrt(np.sum((sample_2 - np.mean(sample_2))**2)/(len(sample_2)-1))\n",
    "\n",
    "print(\"Sample 2:\")\n",
    "print(f\"Standard Deviation using STDEV.P: {sdp_samp_2:0.4f}\")\n",
    "print(f\"Standard Deviation using STDEV.S: {sds_samp_2:0.4f}\")  "
   ]
  },
  {
   "cell_type": "markdown",
   "metadata": {},
   "source": [
    "### Conclusion\n",
    "***\n",
    "\n",
    "In this example, the Standard Deviation of the entire population using STDEV.P is \"0.3666\".\n",
    "\n",
    "First sample STDEV.P = \"0.3299\", STDEV.S = \"0.3355\".<br>\n",
    "Second sample STDEV.P = \"0.3516\", STDEV.S = \"0.3607\".\n",
    "\n",
    "In both of these situation using STDEV.S gave us a standard deviation that was closer to the populations true standard deviation."
   ]
  },
  {
   "cell_type": "markdown",
   "metadata": {},
   "source": [
    "# Task[4] - Iris data set"
   ]
  },
  {
   "cell_type": "code",
   "execution_count": 11,
   "metadata": {},
   "outputs": [],
   "source": [
    "# Numerical arrays.\n",
    "import numpy as np\n",
    "\n",
    "# Plotting\n",
    "import matplotlib.pyplot as plt"
   ]
  },
  {
   "cell_type": "markdown",
   "metadata": {},
   "source": [
    "https://en.wikipedia.org/wiki/Iris_flower_data_set#<br>\n",
    "https://scikit-learn.org/stable/modules/generated/sklearn.datasets.load_iris.html"
   ]
  },
  {
   "cell_type": "code",
   "execution_count": 12,
   "metadata": {},
   "outputs": [
    {
     "data": {
      "text/plain": [
       "{'data': array([[5.1, 3.5, 1.4, 0.2],\n",
       "        [4.9, 3. , 1.4, 0.2],\n",
       "        [4.7, 3.2, 1.3, 0.2],\n",
       "        [4.6, 3.1, 1.5, 0.2],\n",
       "        [5. , 3.6, 1.4, 0.2],\n",
       "        [5.4, 3.9, 1.7, 0.4],\n",
       "        [4.6, 3.4, 1.4, 0.3],\n",
       "        [5. , 3.4, 1.5, 0.2],\n",
       "        [4.4, 2.9, 1.4, 0.2],\n",
       "        [4.9, 3.1, 1.5, 0.1],\n",
       "        [5.4, 3.7, 1.5, 0.2],\n",
       "        [4.8, 3.4, 1.6, 0.2],\n",
       "        [4.8, 3. , 1.4, 0.1],\n",
       "        [4.3, 3. , 1.1, 0.1],\n",
       "        [5.8, 4. , 1.2, 0.2],\n",
       "        [5.7, 4.4, 1.5, 0.4],\n",
       "        [5.4, 3.9, 1.3, 0.4],\n",
       "        [5.1, 3.5, 1.4, 0.3],\n",
       "        [5.7, 3.8, 1.7, 0.3],\n",
       "        [5.1, 3.8, 1.5, 0.3],\n",
       "        [5.4, 3.4, 1.7, 0.2],\n",
       "        [5.1, 3.7, 1.5, 0.4],\n",
       "        [4.6, 3.6, 1. , 0.2],\n",
       "        [5.1, 3.3, 1.7, 0.5],\n",
       "        [4.8, 3.4, 1.9, 0.2],\n",
       "        [5. , 3. , 1.6, 0.2],\n",
       "        [5. , 3.4, 1.6, 0.4],\n",
       "        [5.2, 3.5, 1.5, 0.2],\n",
       "        [5.2, 3.4, 1.4, 0.2],\n",
       "        [4.7, 3.2, 1.6, 0.2],\n",
       "        [4.8, 3.1, 1.6, 0.2],\n",
       "        [5.4, 3.4, 1.5, 0.4],\n",
       "        [5.2, 4.1, 1.5, 0.1],\n",
       "        [5.5, 4.2, 1.4, 0.2],\n",
       "        [4.9, 3.1, 1.5, 0.2],\n",
       "        [5. , 3.2, 1.2, 0.2],\n",
       "        [5.5, 3.5, 1.3, 0.2],\n",
       "        [4.9, 3.6, 1.4, 0.1],\n",
       "        [4.4, 3. , 1.3, 0.2],\n",
       "        [5.1, 3.4, 1.5, 0.2],\n",
       "        [5. , 3.5, 1.3, 0.3],\n",
       "        [4.5, 2.3, 1.3, 0.3],\n",
       "        [4.4, 3.2, 1.3, 0.2],\n",
       "        [5. , 3.5, 1.6, 0.6],\n",
       "        [5.1, 3.8, 1.9, 0.4],\n",
       "        [4.8, 3. , 1.4, 0.3],\n",
       "        [5.1, 3.8, 1.6, 0.2],\n",
       "        [4.6, 3.2, 1.4, 0.2],\n",
       "        [5.3, 3.7, 1.5, 0.2],\n",
       "        [5. , 3.3, 1.4, 0.2],\n",
       "        [7. , 3.2, 4.7, 1.4],\n",
       "        [6.4, 3.2, 4.5, 1.5],\n",
       "        [6.9, 3.1, 4.9, 1.5],\n",
       "        [5.5, 2.3, 4. , 1.3],\n",
       "        [6.5, 2.8, 4.6, 1.5],\n",
       "        [5.7, 2.8, 4.5, 1.3],\n",
       "        [6.3, 3.3, 4.7, 1.6],\n",
       "        [4.9, 2.4, 3.3, 1. ],\n",
       "        [6.6, 2.9, 4.6, 1.3],\n",
       "        [5.2, 2.7, 3.9, 1.4],\n",
       "        [5. , 2. , 3.5, 1. ],\n",
       "        [5.9, 3. , 4.2, 1.5],\n",
       "        [6. , 2.2, 4. , 1. ],\n",
       "        [6.1, 2.9, 4.7, 1.4],\n",
       "        [5.6, 2.9, 3.6, 1.3],\n",
       "        [6.7, 3.1, 4.4, 1.4],\n",
       "        [5.6, 3. , 4.5, 1.5],\n",
       "        [5.8, 2.7, 4.1, 1. ],\n",
       "        [6.2, 2.2, 4.5, 1.5],\n",
       "        [5.6, 2.5, 3.9, 1.1],\n",
       "        [5.9, 3.2, 4.8, 1.8],\n",
       "        [6.1, 2.8, 4. , 1.3],\n",
       "        [6.3, 2.5, 4.9, 1.5],\n",
       "        [6.1, 2.8, 4.7, 1.2],\n",
       "        [6.4, 2.9, 4.3, 1.3],\n",
       "        [6.6, 3. , 4.4, 1.4],\n",
       "        [6.8, 2.8, 4.8, 1.4],\n",
       "        [6.7, 3. , 5. , 1.7],\n",
       "        [6. , 2.9, 4.5, 1.5],\n",
       "        [5.7, 2.6, 3.5, 1. ],\n",
       "        [5.5, 2.4, 3.8, 1.1],\n",
       "        [5.5, 2.4, 3.7, 1. ],\n",
       "        [5.8, 2.7, 3.9, 1.2],\n",
       "        [6. , 2.7, 5.1, 1.6],\n",
       "        [5.4, 3. , 4.5, 1.5],\n",
       "        [6. , 3.4, 4.5, 1.6],\n",
       "        [6.7, 3.1, 4.7, 1.5],\n",
       "        [6.3, 2.3, 4.4, 1.3],\n",
       "        [5.6, 3. , 4.1, 1.3],\n",
       "        [5.5, 2.5, 4. , 1.3],\n",
       "        [5.5, 2.6, 4.4, 1.2],\n",
       "        [6.1, 3. , 4.6, 1.4],\n",
       "        [5.8, 2.6, 4. , 1.2],\n",
       "        [5. , 2.3, 3.3, 1. ],\n",
       "        [5.6, 2.7, 4.2, 1.3],\n",
       "        [5.7, 3. , 4.2, 1.2],\n",
       "        [5.7, 2.9, 4.2, 1.3],\n",
       "        [6.2, 2.9, 4.3, 1.3],\n",
       "        [5.1, 2.5, 3. , 1.1],\n",
       "        [5.7, 2.8, 4.1, 1.3],\n",
       "        [6.3, 3.3, 6. , 2.5],\n",
       "        [5.8, 2.7, 5.1, 1.9],\n",
       "        [7.1, 3. , 5.9, 2.1],\n",
       "        [6.3, 2.9, 5.6, 1.8],\n",
       "        [6.5, 3. , 5.8, 2.2],\n",
       "        [7.6, 3. , 6.6, 2.1],\n",
       "        [4.9, 2.5, 4.5, 1.7],\n",
       "        [7.3, 2.9, 6.3, 1.8],\n",
       "        [6.7, 2.5, 5.8, 1.8],\n",
       "        [7.2, 3.6, 6.1, 2.5],\n",
       "        [6.5, 3.2, 5.1, 2. ],\n",
       "        [6.4, 2.7, 5.3, 1.9],\n",
       "        [6.8, 3. , 5.5, 2.1],\n",
       "        [5.7, 2.5, 5. , 2. ],\n",
       "        [5.8, 2.8, 5.1, 2.4],\n",
       "        [6.4, 3.2, 5.3, 2.3],\n",
       "        [6.5, 3. , 5.5, 1.8],\n",
       "        [7.7, 3.8, 6.7, 2.2],\n",
       "        [7.7, 2.6, 6.9, 2.3],\n",
       "        [6. , 2.2, 5. , 1.5],\n",
       "        [6.9, 3.2, 5.7, 2.3],\n",
       "        [5.6, 2.8, 4.9, 2. ],\n",
       "        [7.7, 2.8, 6.7, 2. ],\n",
       "        [6.3, 2.7, 4.9, 1.8],\n",
       "        [6.7, 3.3, 5.7, 2.1],\n",
       "        [7.2, 3.2, 6. , 1.8],\n",
       "        [6.2, 2.8, 4.8, 1.8],\n",
       "        [6.1, 3. , 4.9, 1.8],\n",
       "        [6.4, 2.8, 5.6, 2.1],\n",
       "        [7.2, 3. , 5.8, 1.6],\n",
       "        [7.4, 2.8, 6.1, 1.9],\n",
       "        [7.9, 3.8, 6.4, 2. ],\n",
       "        [6.4, 2.8, 5.6, 2.2],\n",
       "        [6.3, 2.8, 5.1, 1.5],\n",
       "        [6.1, 2.6, 5.6, 1.4],\n",
       "        [7.7, 3. , 6.1, 2.3],\n",
       "        [6.3, 3.4, 5.6, 2.4],\n",
       "        [6.4, 3.1, 5.5, 1.8],\n",
       "        [6. , 3. , 4.8, 1.8],\n",
       "        [6.9, 3.1, 5.4, 2.1],\n",
       "        [6.7, 3.1, 5.6, 2.4],\n",
       "        [6.9, 3.1, 5.1, 2.3],\n",
       "        [5.8, 2.7, 5.1, 1.9],\n",
       "        [6.8, 3.2, 5.9, 2.3],\n",
       "        [6.7, 3.3, 5.7, 2.5],\n",
       "        [6.7, 3. , 5.2, 2.3],\n",
       "        [6.3, 2.5, 5. , 1.9],\n",
       "        [6.5, 3. , 5.2, 2. ],\n",
       "        [6.2, 3.4, 5.4, 2.3],\n",
       "        [5.9, 3. , 5.1, 1.8]]),\n",
       " 'target': array([0, 0, 0, 0, 0, 0, 0, 0, 0, 0, 0, 0, 0, 0, 0, 0, 0, 0, 0, 0, 0, 0,\n",
       "        0, 0, 0, 0, 0, 0, 0, 0, 0, 0, 0, 0, 0, 0, 0, 0, 0, 0, 0, 0, 0, 0,\n",
       "        0, 0, 0, 0, 0, 0, 1, 1, 1, 1, 1, 1, 1, 1, 1, 1, 1, 1, 1, 1, 1, 1,\n",
       "        1, 1, 1, 1, 1, 1, 1, 1, 1, 1, 1, 1, 1, 1, 1, 1, 1, 1, 1, 1, 1, 1,\n",
       "        1, 1, 1, 1, 1, 1, 1, 1, 1, 1, 1, 1, 2, 2, 2, 2, 2, 2, 2, 2, 2, 2,\n",
       "        2, 2, 2, 2, 2, 2, 2, 2, 2, 2, 2, 2, 2, 2, 2, 2, 2, 2, 2, 2, 2, 2,\n",
       "        2, 2, 2, 2, 2, 2, 2, 2, 2, 2, 2, 2, 2, 2, 2, 2, 2, 2]),\n",
       " 'frame': None,\n",
       " 'target_names': array(['setosa', 'versicolor', 'virginica'], dtype='<U10'),\n",
       " 'DESCR': '.. _iris_dataset:\\n\\nIris plants dataset\\n--------------------\\n\\n**Data Set Characteristics:**\\n\\n    :Number of Instances: 150 (50 in each of three classes)\\n    :Number of Attributes: 4 numeric, predictive attributes and the class\\n    :Attribute Information:\\n        - sepal length in cm\\n        - sepal width in cm\\n        - petal length in cm\\n        - petal width in cm\\n        - class:\\n                - Iris-Setosa\\n                - Iris-Versicolour\\n                - Iris-Virginica\\n                \\n    :Summary Statistics:\\n\\n    ============== ==== ==== ======= ===== ====================\\n                    Min  Max   Mean    SD   Class Correlation\\n    ============== ==== ==== ======= ===== ====================\\n    sepal length:   4.3  7.9   5.84   0.83    0.7826\\n    sepal width:    2.0  4.4   3.05   0.43   -0.4194\\n    petal length:   1.0  6.9   3.76   1.76    0.9490  (high!)\\n    petal width:    0.1  2.5   1.20   0.76    0.9565  (high!)\\n    ============== ==== ==== ======= ===== ====================\\n\\n    :Missing Attribute Values: None\\n    :Class Distribution: 33.3% for each of 3 classes.\\n    :Creator: R.A. Fisher\\n    :Donor: Michael Marshall (MARSHALL%PLU@io.arc.nasa.gov)\\n    :Date: July, 1988\\n\\nThe famous Iris database, first used by Sir R.A. Fisher. The dataset is taken\\nfrom Fisher\\'s paper. Note that it\\'s the same as in R, but not as in the UCI\\nMachine Learning Repository, which has two wrong data points.\\n\\nThis is perhaps the best known database to be found in the\\npattern recognition literature.  Fisher\\'s paper is a classic in the field and\\nis referenced frequently to this day.  (See Duda & Hart, for example.)  The\\ndata set contains 3 classes of 50 instances each, where each class refers to a\\ntype of iris plant.  One class is linearly separable from the other 2; the\\nlatter are NOT linearly separable from each other.\\n\\n.. topic:: References\\n\\n   - Fisher, R.A. \"The use of multiple measurements in taxonomic problems\"\\n     Annual Eugenics, 7, Part II, 179-188 (1936); also in \"Contributions to\\n     Mathematical Statistics\" (John Wiley, NY, 1950).\\n   - Duda, R.O., & Hart, P.E. (1973) Pattern Classification and Scene Analysis.\\n     (Q327.D83) John Wiley & Sons.  ISBN 0-471-22361-1.  See page 218.\\n   - Dasarathy, B.V. (1980) \"Nosing Around the Neighborhood: A New System\\n     Structure and Classification Rule for Recognition in Partially Exposed\\n     Environments\".  IEEE Transactions on Pattern Analysis and Machine\\n     Intelligence, Vol. PAMI-2, No. 1, 67-71.\\n   - Gates, G.W. (1972) \"The Reduced Nearest Neighbor Rule\".  IEEE Transactions\\n     on Information Theory, May 1972, 431-433.\\n   - See also: 1988 MLC Proceedings, 54-64.  Cheeseman et al\"s AUTOCLASS II\\n     conceptual clustering system finds 3 classes in the data.\\n   - Many, many more ...',\n",
       " 'feature_names': ['sepal length (cm)',\n",
       "  'sepal width (cm)',\n",
       "  'petal length (cm)',\n",
       "  'petal width (cm)'],\n",
       " 'filename': 'C:\\\\Users\\\\colin\\\\anaconda3\\\\lib\\\\site-packages\\\\sklearn\\\\datasets\\\\data\\\\iris.csv'}"
      ]
     },
     "execution_count": 12,
     "metadata": {},
     "output_type": "execute_result"
    }
   ],
   "source": [
    "import sklearn.datasets as skds\n",
    "\n",
    "iris = skds.load_iris()\n",
    "iris\n"
   ]
  },
  {
   "cell_type": "code",
   "execution_count": null,
   "metadata": {},
   "outputs": [
    {
     "data": {
      "text/plain": [
       "[<matplotlib.lines.Line2D at 0x24cedcb1d60>,\n",
       " <matplotlib.lines.Line2D at 0x24cedcb1e50>,\n",
       " <matplotlib.lines.Line2D at 0x24cedcb1e20>,\n",
       " <matplotlib.lines.Line2D at 0x24cedcb1eb0>]"
      ]
     },
     "execution_count": 13,
     "metadata": {},
     "output_type": "execute_result"
    }
   ],
   "source": [
    "plt.plot(iris.data, 'o')"
   ]
  },
  {
   "cell_type": "markdown",
   "metadata": {},
   "source": [
    "# End"
   ]
  }
 ],
 "metadata": {
  "kernelspec": {
   "display_name": "Python 3",
   "language": "python",
   "name": "python3"
  },
  "language_info": {
   "codemirror_mode": {
    "name": "ipython",
    "version": 3
   },
   "file_extension": ".py",
   "mimetype": "text/x-python",
   "name": "python",
   "nbconvert_exporter": "python",
   "pygments_lexer": "ipython3",
   "version": "3.8.5"
  }
 },
 "nbformat": 4,
 "nbformat_minor": 4
}
