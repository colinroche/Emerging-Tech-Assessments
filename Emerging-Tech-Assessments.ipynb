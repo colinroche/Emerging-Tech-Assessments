{
 "cells": [
  {
   "cell_type": "markdown",
   "metadata": {},
   "source": [
    "# Task [1] - Calculating the Square Root of 2"
   ]
  },
  {
   "cell_type": "markdown",
   "metadata": {},
   "source": [
    "## Simple calculation using the \"**\" Operator accurate to 15 decimals"
   ]
  },
  {
   "cell_type": "code",
   "execution_count": 1,
   "metadata": {},
   "outputs": [
    {
     "name": "stdout",
     "output_type": "stream",
     "text": [
      "1.4142135623730951454746218587388284504413604736328125\n",
      "1.4142135623730951\n"
     ]
    }
   ],
   "source": [
    "def sqrt2Simp(n):\n",
    "    # the exponentiation\n",
    "    # using the exponent (1/2) on a number is the same as getting it's square root\n",
    "    n  = n**(1/2)\n",
    "    # printing out 100decimals\n",
    "    print(\"{:.100}\".format(n))\n",
    "    # print out normallly\n",
    "    print(n)\n",
    "    \n",
    "sqrt2Simp(2)"
   ]
  },
  {
   "cell_type": "markdown",
   "metadata": {},
   "source": [
    "## Calculating using the Babylonian Method accurate to 10 decimals"
   ]
  },
  {
   "cell_type": "code",
   "execution_count": 2,
   "metadata": {},
   "outputs": [
    {
     "name": "stdout",
     "output_type": "stream",
     "text": [
      "1.4142135623746898698271934335934929549694061279296875\n"
     ]
    },
    {
     "data": {
      "text/plain": [
       "1.4142135623746899"
      ]
     },
     "execution_count": 2,
     "metadata": {},
     "output_type": "execute_result"
    }
   ],
   "source": [
    "def sqrt2B1(n):\n",
    "    \"\"\"\n",
    "    A function to calculate the square root of a number n.\n",
    "    \"\"\"\n",
    "    r = n\n",
    "    x = 0\n",
    "    # setting 10 decimal accurrency\n",
    "    a = 0.0000000001\n",
    "\n",
    "    # Loop until we're happy with the accuracy.\n",
    "    while abs(r - x) > a:\n",
    "        r = (r + x) / 2\n",
    "        x = n / r\n",
    "    print(\"{:.100}\".format(r))\n",
    "    # Return the (approximate) square root of n.\n",
    "    return r\n",
    "\n",
    "sqrt2B1(2)"
   ]
  },
  {
   "cell_type": "markdown",
   "metadata": {},
   "source": [
    "# Task[2] - Chi-Squared Test"
   ]
  },
  {
   "cell_type": "markdown",
   "metadata": {},
   "source": [
    "## Contingency Table\n",
    "***\n",
    "\n",
    "The table provided for this task is an example of a Contingency Table.[1]\n",
    "\n",
    "***\n",
    "- .[1] Contingency Tables, https://en.wikipedia.org/wiki/Contingency_table\n",
    "***\n",
    "###### Wikipedia example of Contigency Table \n",
    "\n",
    "<img style=\"float: left;\" src=\"images/ContigencyTable.PNG\">\n",
    "\n",
    "\n"
   ]
  },
  {
   "cell_type": "code",
   "execution_count": 3,
   "metadata": {},
   "outputs": [
    {
     "data": {
      "text/html": [
       "<div>\n",
       "<style scoped>\n",
       "    .dataframe tbody tr th:only-of-type {\n",
       "        vertical-align: middle;\n",
       "    }\n",
       "\n",
       "    .dataframe tbody tr th {\n",
       "        vertical-align: top;\n",
       "    }\n",
       "\n",
       "    .dataframe thead th {\n",
       "        text-align: right;\n",
       "    }\n",
       "</style>\n",
       "<table border=\"1\" class=\"dataframe\">\n",
       "  <thead>\n",
       "    <tr style=\"text-align: right;\">\n",
       "      <th></th>\n",
       "      <th>A</th>\n",
       "      <th>B</th>\n",
       "      <th>C</th>\n",
       "      <th>D</th>\n",
       "      <th>Total</th>\n",
       "    </tr>\n",
       "    <tr>\n",
       "      <th></th>\n",
       "      <th></th>\n",
       "      <th></th>\n",
       "      <th></th>\n",
       "      <th></th>\n",
       "      <th></th>\n",
       "    </tr>\n",
       "  </thead>\n",
       "  <tbody>\n",
       "    <tr>\n",
       "      <th>White collar</th>\n",
       "      <td>90</td>\n",
       "      <td>60</td>\n",
       "      <td>104</td>\n",
       "      <td>95</td>\n",
       "      <td>349</td>\n",
       "    </tr>\n",
       "    <tr>\n",
       "      <th>Blue collar</th>\n",
       "      <td>30</td>\n",
       "      <td>50</td>\n",
       "      <td>51</td>\n",
       "      <td>20</td>\n",
       "      <td>151</td>\n",
       "    </tr>\n",
       "    <tr>\n",
       "      <th>No collar</th>\n",
       "      <td>30</td>\n",
       "      <td>40</td>\n",
       "      <td>45</td>\n",
       "      <td>35</td>\n",
       "      <td>150</td>\n",
       "    </tr>\n",
       "    <tr>\n",
       "      <th>Total</th>\n",
       "      <td>150</td>\n",
       "      <td>150</td>\n",
       "      <td>200</td>\n",
       "      <td>150</td>\n",
       "      <td>650</td>\n",
       "    </tr>\n",
       "  </tbody>\n",
       "</table>\n",
       "</div>"
      ],
      "text/plain": [
       "                A    B    C    D  Total\n",
       "                                       \n",
       "White collar   90   60  104   95    349\n",
       "Blue collar    30   50   51   20    151\n",
       "No collar      30   40   45   35    150\n",
       "Total         150  150  200  150    650"
      ]
     },
     "execution_count": 3,
     "metadata": {},
     "output_type": "execute_result"
    }
   ],
   "source": [
    "\"\"\"\n",
    "The display of Contingency Table for ease of reading\n",
    "\"\"\"\n",
    "\n",
    "# Data frames\n",
    "import pandas as pd \n",
    "\n",
    "data = {'': ['White collar', 'Blue collar', 'No collar'],\n",
    "        'A':[90, 30, 30],\n",
    "        'B':[60, 50, 40], \n",
    "        'C':[104, 51, 45], \n",
    "        'D':[95, 20, 35]}\n",
    "\n",
    "#Setting value to index\n",
    "df = pd.DataFrame(data).set_index('')\n",
    "\n",
    "#Total sum per column: \n",
    "df.loc['Total']= df.sum(axis=0)\n",
    "\n",
    "#Total sum per row: \n",
    "df['Total'] = df.sum(axis=1)\n",
    "\n",
    "df"
   ]
  },
  {
   "cell_type": "markdown",
   "metadata": {},
   "source": [
    "## Calculating the Chi-Square and P values\n",
    "***\n",
    "Scipy.stats contains multiple functions to calculate the Chi-Square value.[1]\n",
    "\n",
    "Do to the fact the table given is an example of a Contingency Table, I thought it appropriate to contingency function chi2_contingency(observed, correction=True, lambda_=None).[2].  Only the observed is needed in this case.\n",
    "\n",
    "This function returns the test statistic, p-value, degree of freedom and expected frequencies.  Only the first 2 are necessary for this task.\n",
    "\n",
    "\n",
    "***\n",
    "- .[1] Documentation for scipy.stats, https://docs.scipy.org/doc/scipy/reference/stats.html  \n",
    "- .[2] Function for Chi-square test of independence of variables in a contingency table, https://docs.scipy.org/doc/scipy/reference/generated/scipy.stats.chi2_contingency.html#scipy.stats.chi2_contingency\n",
    "***"
   ]
  },
  {
   "cell_type": "code",
   "execution_count": 4,
   "metadata": {},
   "outputs": [
    {
     "name": "stdout",
     "output_type": "stream",
     "text": [
      "Approximate Chi-squared value: 24.6\n",
      "Actual Chi-squared value: 24.571202858582602\n",
      "\n",
      "P-Value: 0.0004098425861096692\n",
      "P_Value: 0.00\n"
     ]
    }
   ],
   "source": [
    "#Statistics package\n",
    "import scipy.stats as ss\n",
    "\n",
    "#Observed Data\n",
    "obsData = [[90, 30, 30],\n",
    "         [60, 50, 40],\n",
    "         [104, 51, 45],\n",
    "         [95, 20, 35]]\n",
    "\n",
    "#chi2_contingency - Chi-square test of independence of variables in a contingency table\n",
    "stat, p, dof, expected  = ss.chi2_contingency(obsData)\n",
    "\n",
    "print(f\"Approximate Chi-squared value: {stat:0.1f}\")\n",
    "print('Actual Chi-squared value:', stat)\n",
    "\n",
    "print('\\nP-Value:', p)\n",
    "print(f\"P_Value: {p:0.2f}\")\n"
   ]
  },
  {
   "cell_type": "markdown",
   "metadata": {},
   "source": [
    "***\n",
    "# Task[3] - Excels functions for Standard Deviation"
   ]
  },
  {
   "cell_type": "markdown",
   "metadata": {},
   "source": [
    "## Setting data sets of Population and Samples\n",
    "***"
   ]
  },
  {
   "cell_type": "markdown",
   "metadata": {},
   "source": [
    "### STDEV.P\n",
    "***\n",
    "\n",
    "Returns an estimation for the standard deviation of a population, this is when the full data set is known.  An example of this if the data set was a sensis of the entire population of a country.\n",
    "\n",
    "STDEV.P calculates the standard deviation of a data set, it does this by using the \"n\" method which is as follows:\n",
    "\n",
    "<img style=\"float: left;\" src=\"images/StandardDeviation.gif\" width=\"200\" height=\"100\"/>\n"
   ]
  },
  {
   "cell_type": "markdown",
   "metadata": {},
   "source": [
    "### STDEV.S\n",
    "***\n",
    "\n",
    "Returns an estimation for the standard devaition of a sample, this is when you have part of a data set is known. An example of this would be a survey of set of people in a country, this may be region or other.\n",
    "\n",
    "STDEV.S uses a similiar formula to the one above but instead of dividing by \"N\" it divides \"N-1\".  This is known as \"Bessel's Correction\".[1]\n",
    "\n",
    "- .[1] Bessel's Correction, https://en.wikipedia.org/wiki/Bessel%27s_correction\n"
   ]
  },
  {
   "cell_type": "code",
   "execution_count": 70,
   "metadata": {},
   "outputs": [
    {
     "name": "stdout",
     "output_type": "stream",
     "text": [
      "Population A:\n",
      "[0.38842921 1.01034183 0.89190977 1.15935193 0.88460741 0.27655353\n",
      " 0.53408832 1.05053786 0.86727588 0.85831187 0.98727665 0.83758418\n",
      " 0.65576175 1.56249442 0.9072126  0.63322598 1.59382523 1.13234558\n",
      " 0.73824033 1.03518097 1.27045912 0.78162246 0.9029945  0.8736088\n",
      " 0.64913574 1.74346171 1.72052288 0.47077446 0.93687274 0.64952033\n",
      " 0.67610036 1.240677   1.32013074 0.05043781 0.70226566 1.22024025\n",
      " 0.38996632 1.46974039 1.38866417 1.15645885 1.21439177 0.89902013\n",
      " 0.46468832 0.98940124 0.55036177 1.29123743 0.9916612  1.07341992\n",
      " 1.03317712 1.37083124]\n"
     ]
    }
   ],
   "source": [
    "'''\n",
    "Using numpy to create a random data set for the population.\n",
    "'''\n",
    "\n",
    "# Efficient numerical arrays.\n",
    "import numpy as np\n",
    "\n",
    "# Setting the mean, standard deviation and size of populaiton\n",
    "m_a, s_a = 1.0, 0.4\n",
    "N = 50\n",
    "\n",
    "# Population data set\n",
    "a = np.random.normal(m_a, s_a, N)\n",
    "\n",
    "# Printing the population data set\n",
    "print(\"Population A:\")\n",
    "print(a)"
   ]
  },
  {
   "cell_type": "code",
   "execution_count": 71,
   "metadata": {},
   "outputs": [
    {
     "name": "stdout",
     "output_type": "stream",
     "text": [
      "Standard Deviation of Population A: 0.3666\n"
     ]
    }
   ],
   "source": [
    "'''\n",
    "Standard deviation of population using the equivalent of Excels STDEV.P.\n",
    "'''\n",
    "# Standard deviation for population\n",
    "sd = np.std(a)\n",
    "\n",
    "print(f\"Standard Deviation of Population A: {sd:0.4f}\")"
   ]
  },
  {
   "cell_type": "code",
   "execution_count": 72,
   "metadata": {},
   "outputs": [
    {
     "name": "stdout",
     "output_type": "stream",
     "text": [
      "Sample 1:\n",
      "[0.65576175 0.9029945  1.22024025 1.05053786 0.64913574 0.63322598\n",
      " 1.46974039 1.01034183 0.64952033 1.56249442 1.59382523 1.07341992\n",
      " 1.240677   0.67610036 0.89190977 0.38842921 1.15645885 1.32013074\n",
      " 0.98940124 1.27045912 0.70226566 1.21439177 0.47077446 0.78162246\n",
      " 1.37083124 0.38996632 1.03518097 1.29123743 0.98727665 0.89902013]\n"
     ]
    }
   ],
   "source": [
    "'''\n",
    "Getting random sample set from population.\n",
    "'''\n",
    "\n",
    "# Setting size of sample\n",
    "n1 = 30\n",
    "\n",
    "# Sample data set from poplution\n",
    "sample_1 = np.random.choice(a, n1, replace=False)\n",
    "\n",
    "# Printing the sample data set\n",
    "print(\"Sample 1:\")\n",
    "print(sample_1)"
   ]
  },
  {
   "cell_type": "code",
   "execution_count": 73,
   "metadata": {},
   "outputs": [
    {
     "name": "stdout",
     "output_type": "stream",
     "text": [
      "Sample 1:\n",
      "Standard Deviation using STDEV.P: 0.3299\n",
      "Standard Deviation using STDEV.S: 0.3355\n"
     ]
    }
   ],
   "source": [
    "'''\n",
    "Standard deviation of sample 1 using the equivalent of Excels STDEV.P and STDEV.S.\n",
    "'''\n",
    "\n",
    "# Standard deviation using STDEV.P\n",
    "sdp_samp_1 = np.sqrt(np.sum((sample_1 - np.mean(sample_1))**2)/len(sample_1))\n",
    "# Standard deviation using STDEV.S\n",
    "sds_samp_1 = np.sqrt(np.sum((sample_1 - np.mean(sample_1))**2)/(len(sample_1)-1))\n",
    "\n",
    "\n",
    "print(\"Sample 1:\")\n",
    "print(f\"Standard Deviation using STDEV.P: {sdp_samp_1:0.4f}\")\n",
    "print(f\"Standard Deviation using STDEV.S: {sds_samp_1:0.4f}\")"
   ]
  },
  {
   "cell_type": "code",
   "execution_count": 75,
   "metadata": {},
   "outputs": [
    {
     "name": "stdout",
     "output_type": "stream",
     "text": [
      "Sample 2:\n",
      "[0.38842921 0.83758418 1.240677   1.29123743 0.89902013 1.46974039\n",
      " 0.27655353 1.03518097 0.73824033 0.88460741 0.67610036 1.22024025\n",
      " 0.64913574 1.15645885 1.21439177 0.98727665 0.64952033 0.9072126\n",
      " 1.59382523 0.38996632]\n"
     ]
    }
   ],
   "source": [
    "'''\n",
    "Getting second random sample set from population.\n",
    "'''\n",
    "\n",
    "# Setting size of sample\n",
    "n2 = 20\n",
    "\n",
    "# Sample data set from poplution\n",
    "sample_2 = np.random.choice(a, n2, replace=False)\n",
    "\n",
    "# Printing the sample data set\n",
    "print(\"Sample 2:\")\n",
    "print(sample_2)"
   ]
  },
  {
   "cell_type": "code",
   "execution_count": 77,
   "metadata": {},
   "outputs": [
    {
     "name": "stdout",
     "output_type": "stream",
     "text": [
      "Sample 2:\n",
      "Standard Deviation using STDEV.P: 0.3516\n",
      "Standard Deviation using STDEV.S: 0.3607\n"
     ]
    }
   ],
   "source": [
    "'''\n",
    "Standard deviation of sample 2 using the equivalent of Excels STDEV.P and STDEV.S.\n",
    "'''\n",
    "\n",
    "# Standard deviation using STDEV.P\n",
    "sdp_samp_2 = np.sqrt(np.sum((sample_2 - np.mean(sample_2))**2)/len(sample_2))\n",
    "# Standard deviation using STDEV.S\n",
    "sds_samp_2 = np.sqrt(np.sum((sample_2 - np.mean(sample_2))**2)/(len(sample_2)-1))\n",
    "\n",
    "print(\"Sample 2:\")\n",
    "print(f\"Standard Deviation using STDEV.P: {sdp_samp_2:0.4f}\")\n",
    "print(f\"Standard Deviation using STDEV.S: {sds_samp_2:0.4f}\")  "
   ]
  },
  {
   "cell_type": "markdown",
   "metadata": {},
   "source": [
    "### Conclusion\n",
    "***\n",
    "\n",
    "In this example, the Standard Deviation of the entire population using STDEV.P is \"0.3666\".\n",
    "\n",
    "First sample STDEV.P = \"0.3299\", STDEV.S = \"0.3355\".\n",
    "Second sample STDEV.P = \"0.3516\", STDEV.S = \"0.3607\".\n",
    "\n",
    "In both of these situation using STDEV.S gave us a standard deviation that was closer to the populations true standard deviation."
   ]
  },
  {
   "cell_type": "markdown",
   "metadata": {},
   "source": [
    "# End"
   ]
  }
 ],
 "metadata": {
  "kernelspec": {
   "display_name": "Python 3",
   "language": "python",
   "name": "python3"
  },
  "language_info": {
   "codemirror_mode": {
    "name": "ipython",
    "version": 3
   },
   "file_extension": ".py",
   "mimetype": "text/x-python",
   "name": "python",
   "nbconvert_exporter": "python",
   "pygments_lexer": "ipython3",
   "version": "3.8.5"
  }
 },
 "nbformat": 4,
 "nbformat_minor": 4
}
