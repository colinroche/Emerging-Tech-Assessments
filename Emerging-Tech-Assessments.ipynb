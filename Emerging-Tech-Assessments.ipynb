{
 "cells": [
  {
   "cell_type": "markdown",
   "metadata": {},
   "source": [
    "# Task [1] - Calculating the Square Root of 2"
   ]
  },
  {
   "cell_type": "markdown",
   "metadata": {},
   "source": [
    "## Simple calculation using the \"**\" Operator accurate to 15 decimals"
   ]
  },
  {
   "cell_type": "code",
   "execution_count": 1,
   "metadata": {},
   "outputs": [
    {
     "name": "stdout",
     "output_type": "stream",
     "text": [
      "1.4142135623730951454746218587388284504413604736328125\n",
      "1.4142135623730951\n"
     ]
    }
   ],
   "source": [
    "def sqrt2Simp(n):\n",
    "    # the exponentiation\n",
    "    # using the exponent (1/2) on a number is the same as getting it's square root\n",
    "    n  = n**(1/2)\n",
    "    # printing out 100decimals\n",
    "    print(\"{:.100}\".format(n))\n",
    "    # print out normallly\n",
    "    print(n)\n",
    "    \n",
    "sqrt2Simp(2)"
   ]
  },
  {
   "cell_type": "markdown",
   "metadata": {},
   "source": [
    "## Calculating using the Babylonian Method accurate to 10 decimals"
   ]
  },
  {
   "cell_type": "code",
   "execution_count": 2,
   "metadata": {},
   "outputs": [
    {
     "name": "stdout",
     "output_type": "stream",
     "text": [
      "1.4142135623746898698271934335934929549694061279296875\n"
     ]
    },
    {
     "data": {
      "text/plain": [
       "1.4142135623746899"
      ]
     },
     "execution_count": 2,
     "metadata": {},
     "output_type": "execute_result"
    }
   ],
   "source": [
    "def sqrt2B1(n):\n",
    "    \"\"\"\n",
    "    A function to calculate the square root of a number n.\n",
    "    \"\"\"\n",
    "    r = n\n",
    "    x = 0\n",
    "    # setting 10 decimal accurrency\n",
    "    a = 0.0000000001\n",
    "\n",
    "    # Loop until we're happy with the accuracy.\n",
    "    while abs(r - x) > a:\n",
    "        r = (r + x) / 2\n",
    "        x = n / r\n",
    "    print(\"{:.100}\".format(r))\n",
    "    # Return the (approximate) square root of n.\n",
    "    return r\n",
    "\n",
    "sqrt2B1(2)"
   ]
  },
  {
   "cell_type": "markdown",
   "metadata": {},
   "source": [
    "# Task[2] - Chi-Squared Test"
   ]
  },
  {
   "cell_type": "markdown",
   "metadata": {},
   "source": [
    "## Contingency Table\n",
    "***\n",
    "\n",
    "The table provided for this task is an example of a Contingency Table.[1]\n",
    "\n",
    "***\n",
    "- .[1] Contingency Tables, https://en.wikipedia.org/wiki/Contingency_table\n",
    "***\n",
    "###### Wikipedia example of Contigency Table \n",
    "\n",
    "<img style=\"float: left;\" src=\"images/ContigencyTable.PNG\">\n",
    "\n",
    "\n"
   ]
  },
  {
   "cell_type": "code",
   "execution_count": 3,
   "metadata": {},
   "outputs": [
    {
     "data": {
      "text/html": [
       "<div>\n",
       "<style scoped>\n",
       "    .dataframe tbody tr th:only-of-type {\n",
       "        vertical-align: middle;\n",
       "    }\n",
       "\n",
       "    .dataframe tbody tr th {\n",
       "        vertical-align: top;\n",
       "    }\n",
       "\n",
       "    .dataframe thead th {\n",
       "        text-align: right;\n",
       "    }\n",
       "</style>\n",
       "<table border=\"1\" class=\"dataframe\">\n",
       "  <thead>\n",
       "    <tr style=\"text-align: right;\">\n",
       "      <th></th>\n",
       "      <th>A</th>\n",
       "      <th>B</th>\n",
       "      <th>C</th>\n",
       "      <th>D</th>\n",
       "      <th>Total</th>\n",
       "    </tr>\n",
       "    <tr>\n",
       "      <th></th>\n",
       "      <th></th>\n",
       "      <th></th>\n",
       "      <th></th>\n",
       "      <th></th>\n",
       "      <th></th>\n",
       "    </tr>\n",
       "  </thead>\n",
       "  <tbody>\n",
       "    <tr>\n",
       "      <th>White collar</th>\n",
       "      <td>90</td>\n",
       "      <td>60</td>\n",
       "      <td>104</td>\n",
       "      <td>95</td>\n",
       "      <td>349</td>\n",
       "    </tr>\n",
       "    <tr>\n",
       "      <th>Blue collar</th>\n",
       "      <td>30</td>\n",
       "      <td>50</td>\n",
       "      <td>51</td>\n",
       "      <td>20</td>\n",
       "      <td>151</td>\n",
       "    </tr>\n",
       "    <tr>\n",
       "      <th>No collar</th>\n",
       "      <td>30</td>\n",
       "      <td>40</td>\n",
       "      <td>45</td>\n",
       "      <td>35</td>\n",
       "      <td>150</td>\n",
       "    </tr>\n",
       "    <tr>\n",
       "      <th>Total</th>\n",
       "      <td>150</td>\n",
       "      <td>150</td>\n",
       "      <td>200</td>\n",
       "      <td>150</td>\n",
       "      <td>650</td>\n",
       "    </tr>\n",
       "  </tbody>\n",
       "</table>\n",
       "</div>"
      ],
      "text/plain": [
       "                A    B    C    D  Total\n",
       "                                       \n",
       "White collar   90   60  104   95    349\n",
       "Blue collar    30   50   51   20    151\n",
       "No collar      30   40   45   35    150\n",
       "Total         150  150  200  150    650"
      ]
     },
     "execution_count": 3,
     "metadata": {},
     "output_type": "execute_result"
    }
   ],
   "source": [
    "\"\"\"\n",
    "The display of Contingency Table for ease of reading\n",
    "\"\"\"\n",
    "\n",
    "# Data frames\n",
    "import pandas as pd \n",
    "\n",
    "data = {'': ['White collar', 'Blue collar', 'No collar'],\n",
    "        'A':[90, 30, 30],\n",
    "        'B':[60, 50, 40], \n",
    "        'C':[104, 51, 45], \n",
    "        'D':[95, 20, 35]}\n",
    "\n",
    "#Setting value to index\n",
    "df = pd.DataFrame(data).set_index('')\n",
    "\n",
    "#Total sum per column: \n",
    "df.loc['Total']= df.sum(axis=0)\n",
    "\n",
    "#Total sum per row: \n",
    "df['Total'] = df.sum(axis=1)\n",
    "\n",
    "df"
   ]
  },
  {
   "cell_type": "markdown",
   "metadata": {},
   "source": [
    "## Calculating the Chi-Square and P values\n",
    "***\n",
    "Scipy.stats contains multiple functions to calculate the Chi-Square value.[1]\n",
    "\n",
    "Do to the fact the table given is an example of a Contingency Table, I thought it appropriate to contingency function chi2_contingency(observed, correction=True, lambda_=None).[2].  Only the observed is needed in this case.\n",
    "\n",
    "This function returns the test statistic, p-value, degree of freedom and expected frequencies.  Only the first 2 are necessary for this task.\n",
    "\n",
    "\n",
    "***\n",
    "- .[1] Documentation for scipy.stats, https://docs.scipy.org/doc/scipy/reference/stats.html  \n",
    "- .[2] Function for Chi-square test of independence of variables in a contingency table, https://docs.scipy.org/doc/scipy/reference/generated/scipy.stats.chi2_contingency.html#scipy.stats.chi2_contingency\n",
    "***"
   ]
  },
  {
   "cell_type": "code",
   "execution_count": 4,
   "metadata": {},
   "outputs": [
    {
     "name": "stdout",
     "output_type": "stream",
     "text": [
      "Approximate Chi-squared value: 24.6\n",
      "Actual Chi-squared value: 24.571202858582602\n",
      "\n",
      "P-Value: 0.0004098425861096692\n",
      "P_Value: 0.00\n"
     ]
    }
   ],
   "source": [
    "#Statistics package\n",
    "import scipy.stats as ss\n",
    "\n",
    "#Observed Data\n",
    "obsData = [[90, 30, 30],\n",
    "         [60, 50, 40],\n",
    "         [104, 51, 45],\n",
    "         [95, 20, 35]]\n",
    "\n",
    "#chi2_contingency - Chi-square test of independence of variables in a contingency table\n",
    "stat, p, dof, expected  = ss.chi2_contingency(obsData)\n",
    "\n",
    "print(f\"Approximate Chi-squared value: {stat:0.1f}\")\n",
    "print('Actual Chi-squared value:', stat)\n",
    "\n",
    "print('\\nP-Value:', p)\n",
    "print(f\"P_Value: {p:0.2f}\")\n"
   ]
  },
  {
   "cell_type": "markdown",
   "metadata": {},
   "source": [
    "***\n",
    "# Task[3] - Excels functions for Standard Deviation"
   ]
  },
  {
   "cell_type": "markdown",
   "metadata": {},
   "source": [
    "## Setting data sets of Population and Samples\n",
    "***"
   ]
  },
  {
   "cell_type": "markdown",
   "metadata": {},
   "source": [
    "### STDEV.P\n",
    "***\n",
    "\n",
    "Returns an estimation for the standard deviation of a population, this is when the full data set in known.  An example of this if the data set was a sensis of the entire population of a country."
   ]
  },
  {
   "cell_type": "markdown",
   "metadata": {},
   "source": [
    "### STDEV.S\n",
    "***\n",
    "\n",
    "Returns an estimation for the standard devaition of a sample, this is when you have part of a data set is known. An example of this would be a survey of set of people in a country, this may be region or other.\n"
   ]
  },
  {
   "cell_type": "code",
   "execution_count": 2,
   "metadata": {},
   "outputs": [
    {
     "name": "stdout",
     "output_type": "stream",
     "text": [
      "[1.84061432 1.31971717 0.83089449 0.23591483 1.52475197 0.68035411\n",
      " 0.64567622 0.53455772 0.76061014 0.85016671 1.08872229 0.82701692\n",
      " 1.03953647 0.75262358 1.44367899 0.08604106 1.11304803 0.99961387\n",
      " 1.54918414 1.00363578 1.20173045 1.30794722 1.84043146 1.03617359\n",
      " 0.82650128 0.50997119 1.81060704 0.81908044 0.66489368 1.17046828\n",
      " 0.84209321 1.1367392  1.41459586 1.65285006 0.47955915 0.73744665\n",
      " 1.10082217 1.44394388 1.10741304 1.2800678  0.89866501 1.12779833\n",
      " 0.66102617 0.54103964 0.52637527 0.54698385 1.10109874 0.96766611\n",
      " 1.66170284 1.51228272]\n",
      "\n",
      "[1.44367899 0.96766611 1.1367392  0.73744665 0.82701692 0.83089449\n",
      " 0.99961387 1.44394388 0.84209321 0.89866501 1.10109874 0.54698385\n",
      " 0.85016671 0.82650128 0.23591483 0.52637527 1.51228272 0.68035411\n",
      " 1.03617359 0.66102617 1.65285006 0.64567622 0.76061014 0.50997119\n",
      " 1.54918414 1.81060704 0.53455772 1.03953647 1.84043146 1.00363578]\n",
      "\n",
      "[0.81908044 1.2800678  1.84043146 0.23591483 0.82701692 0.66489368\n",
      " 1.31971717 1.12779833 1.84061432 1.08872229 1.41459586 0.96766611\n",
      " 1.66170284 1.65285006 0.83089449 0.54698385 0.76061014 0.08604106\n",
      " 0.54103964 0.52637527]\n"
     ]
    }
   ],
   "source": [
    "'''\n",
    "Using numpy to create a random data set for the population.\n",
    "Getting to random sample sets from this population.\n",
    "'''\n",
    "\n",
    "# Efficient numerical arrays.\n",
    "import numpy as np\n",
    "\n",
    "# Setting the mean, standard deviation and size\n",
    "m_a, s_a = 1.0, 0.4\n",
    "N, n1, n2 = 50, 30, 20\n",
    "\n",
    "# Population data set\n",
    "a = np.random.normal(m_a, s_a, N)\n",
    "\n",
    "# Sample data sets from poplution\n",
    "sample_1 = np.random.choice(a, n1, replace=False)\n",
    "sample_2 = np.random.choice(a, n2, replace=False)\n",
    "\n",
    "print(a)\n",
    "print()\n",
    "print(sample_1)\n",
    "print()\n",
    "print(sample_2)"
   ]
  },
  {
   "cell_type": "code",
   "execution_count": 3,
   "metadata": {},
   "outputs": [],
   "source": [
    "'''\n",
    "Standard deviation of population using the equivalent of Excels STDEV.P.\n",
    "Standard deviation of sample using the equivalent of Excels STDEV.P and STDEV.S.\n",
    "'''\n",
    "# Standard deviation for population\n",
    "sd = np.std(a)\n",
    "\n",
    "# Standard deviation using STDEV.P\n",
    "sdp_samp_1 = np.sqrt(np.sum((sample_1 - np.mean(sample_1))**2)/len(sample_1))\n",
    "sdp_samp_2 = np.sqrt(np.sum((sample_2 - np.mean(sample_2))**2)/len(sample_2))\n",
    "\n",
    "# Standard deviation using STDEV.S\n",
    "sds_samp_1 = np.sqrt(np.sum((sample_1 - np.mean(sample_1))**2)/(len(sample_1)-1))\n",
    "sds_samp_2 = np.sqrt(np.sum((sample_2 - np.mean(sample_2))**2)/(len(sample_2)-1))"
   ]
  },
  {
   "cell_type": "code",
   "execution_count": 4,
   "metadata": {},
   "outputs": [
    {
     "name": "stdout",
     "output_type": "stream",
     "text": [
      "Standard Deviation of Population A:  0.40895479252257916\n",
      "\n",
      "Standard Deviation of Sample 1 using STDEV.P:  0.4023140401907664\n",
      "Standard Deviation of Sample 1 using STDEV.S:  0.4091917014713919\n",
      "\n",
      "Standard Deviation of Sample 2 using STDEV.P:  0.49874614265506917\n",
      "Standard Deviation of Sample 2 using STDEV.S:  0.511702745550075\n"
     ]
    }
   ],
   "source": [
    "'''\n",
    "Printing standard deviations.\n",
    "'''\n",
    "print(\"Standard Deviation of Population A: \", sd)\n",
    "print()\n",
    "print(\"Standard Deviation of Sample 1 using STDEV.P: \", sdp_samp_1)\n",
    "print(\"Standard Deviation of Sample 1 using STDEV.S: \", sds_samp_1)     \n",
    "print()\n",
    "print(\"Standard Deviation of Sample 2 using STDEV.P: \", sdp_samp_2)\n",
    "print(\"Standard Deviation of Sample 2 using STDEV.S: \", sds_samp_2)    "
   ]
  },
  {
   "cell_type": "markdown",
   "metadata": {},
   "source": [
    "# End"
   ]
  }
 ],
 "metadata": {
  "kernelspec": {
   "display_name": "Python 3",
   "language": "python",
   "name": "python3"
  },
  "language_info": {
   "codemirror_mode": {
    "name": "ipython",
    "version": 3
   },
   "file_extension": ".py",
   "mimetype": "text/x-python",
   "name": "python",
   "nbconvert_exporter": "python",
   "pygments_lexer": "ipython3",
   "version": "3.8.5"
  }
 },
 "nbformat": 4,
 "nbformat_minor": 4
}
