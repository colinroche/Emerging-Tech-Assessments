{
 "cells": [
  {
   "cell_type": "markdown",
   "metadata": {},
   "source": [
    "# Task [1] - Calculating the Square Root of 2\n",
    "***"
   ]
  },
  {
   "cell_type": "markdown",
   "metadata": {},
   "source": [
    " Simple calculation using the \"**\" Operator accurate to 15 decimals"
   ]
  },
  {
   "cell_type": "code",
   "execution_count": 1,
   "metadata": {},
   "outputs": [
    {
     "name": "stdout",
     "output_type": "stream",
     "text": [
      "1.4142135623730951454746218587388284504413604736328125\n",
      "1.4142135623730951\n"
     ]
    }
   ],
   "source": [
    "def sqrt2Simp(n):\n",
    "    # the exponentiation\n",
    "    # using the exponent (1/2) on a number is the same as getting it's square root\n",
    "    n  = n**(1/2)\n",
    "    # printing out 100decimals\n",
    "    print(\"{:.100}\".format(n))\n",
    "    # print out normallly\n",
    "    print(n)\n",
    "    \n",
    "sqrt2Simp(2)"
   ]
  },
  {
   "cell_type": "markdown",
   "metadata": {},
   "source": [
    "###### The Babylonian Method\n",
    "<img style=\"float: left;\" src=\"images/babylonian.PNG\" width=\"200\" height=\"100\"/>"
   ]
  },
  {
   "cell_type": "markdown",
   "metadata": {},
   "source": [
    "Calculating using the Babylonian Method accurate to 10 decimals"
   ]
  },
  {
   "cell_type": "code",
   "execution_count": 2,
   "metadata": {},
   "outputs": [
    {
     "name": "stdout",
     "output_type": "stream",
     "text": [
      "1.4142135623746898698271934335934929549694061279296875\n"
     ]
    },
    {
     "data": {
      "text/plain": [
       "1.4142135623746899"
      ]
     },
     "execution_count": 2,
     "metadata": {},
     "output_type": "execute_result"
    }
   ],
   "source": [
    "def sqrt2B1(n):\n",
    "    \"\"\"\n",
    "    A function to calculate the square root of a number n.\n",
    "    \"\"\"\n",
    "    r = n\n",
    "    x = 0\n",
    "    # setting 10 decimal accurrency\n",
    "    a = 0.0000000001\n",
    "\n",
    "    # Loop until we're happy with the accuracy.\n",
    "    while abs(r - x) > a:\n",
    "        r = (r + x) / 2\n",
    "        x = n / r\n",
    "    print(\"{:.100}\".format(r))\n",
    "    # Return the (approximate) square root of n.\n",
    "    return r\n",
    "\n",
    "sqrt2B1(2)"
   ]
  },
  {
   "cell_type": "markdown",
   "metadata": {},
   "source": [
    "# Task[2] - Chi-Squared Test"
   ]
  },
  {
   "cell_type": "markdown",
   "metadata": {},
   "source": [
    "## Contingency Table\n",
    "***\n",
    "\n",
    "The table provided for this task is an example of a Contingency Table.[1]\n",
    "\n",
    "***\n",
    "- .[1] Contingency Tables, https://en.wikipedia.org/wiki/Contingency_table\n",
    "***\n",
    "###### Wikipedia example of Contigency Table \n",
    "\n",
    "<img style=\"float: left;\" src=\"images/ContigencyTable.PNG\">\n",
    "\n",
    "\n"
   ]
  },
  {
   "cell_type": "code",
   "execution_count": 3,
   "metadata": {},
   "outputs": [
    {
     "data": {
      "text/html": [
       "<div>\n",
       "<style scoped>\n",
       "    .dataframe tbody tr th:only-of-type {\n",
       "        vertical-align: middle;\n",
       "    }\n",
       "\n",
       "    .dataframe tbody tr th {\n",
       "        vertical-align: top;\n",
       "    }\n",
       "\n",
       "    .dataframe thead th {\n",
       "        text-align: right;\n",
       "    }\n",
       "</style>\n",
       "<table border=\"1\" class=\"dataframe\">\n",
       "  <thead>\n",
       "    <tr style=\"text-align: right;\">\n",
       "      <th></th>\n",
       "      <th>A</th>\n",
       "      <th>B</th>\n",
       "      <th>C</th>\n",
       "      <th>D</th>\n",
       "      <th>Total</th>\n",
       "    </tr>\n",
       "    <tr>\n",
       "      <th></th>\n",
       "      <th></th>\n",
       "      <th></th>\n",
       "      <th></th>\n",
       "      <th></th>\n",
       "      <th></th>\n",
       "    </tr>\n",
       "  </thead>\n",
       "  <tbody>\n",
       "    <tr>\n",
       "      <th>White collar</th>\n",
       "      <td>90</td>\n",
       "      <td>60</td>\n",
       "      <td>104</td>\n",
       "      <td>95</td>\n",
       "      <td>349</td>\n",
       "    </tr>\n",
       "    <tr>\n",
       "      <th>Blue collar</th>\n",
       "      <td>30</td>\n",
       "      <td>50</td>\n",
       "      <td>51</td>\n",
       "      <td>20</td>\n",
       "      <td>151</td>\n",
       "    </tr>\n",
       "    <tr>\n",
       "      <th>No collar</th>\n",
       "      <td>30</td>\n",
       "      <td>40</td>\n",
       "      <td>45</td>\n",
       "      <td>35</td>\n",
       "      <td>150</td>\n",
       "    </tr>\n",
       "    <tr>\n",
       "      <th>Total</th>\n",
       "      <td>150</td>\n",
       "      <td>150</td>\n",
       "      <td>200</td>\n",
       "      <td>150</td>\n",
       "      <td>650</td>\n",
       "    </tr>\n",
       "  </tbody>\n",
       "</table>\n",
       "</div>"
      ],
      "text/plain": [
       "                A    B    C    D  Total\n",
       "                                       \n",
       "White collar   90   60  104   95    349\n",
       "Blue collar    30   50   51   20    151\n",
       "No collar      30   40   45   35    150\n",
       "Total         150  150  200  150    650"
      ]
     },
     "execution_count": 3,
     "metadata": {},
     "output_type": "execute_result"
    }
   ],
   "source": [
    "\"\"\"\n",
    "The display of Contingency Table for ease of reading\n",
    "\"\"\"\n",
    "\n",
    "# Data frames\n",
    "import pandas as pd \n",
    "\n",
    "data = {'': ['White collar', 'Blue collar', 'No collar'],\n",
    "        'A':[90, 30, 30],\n",
    "        'B':[60, 50, 40], \n",
    "        'C':[104, 51, 45], \n",
    "        'D':[95, 20, 35]}\n",
    "\n",
    "#Setting value to index\n",
    "df = pd.DataFrame(data).set_index('')\n",
    "\n",
    "#Total sum per column: \n",
    "df.loc['Total']= df.sum(axis=0)\n",
    "\n",
    "#Total sum per row: \n",
    "df['Total'] = df.sum(axis=1)\n",
    "\n",
    "df"
   ]
  },
  {
   "cell_type": "markdown",
   "metadata": {},
   "source": [
    "## Calculating the Chi-Square and P values\n",
    "***\n",
    "Scipy.stats contains multiple functions to calculate the Chi-Square value.[1]\n",
    "\n",
    "Do to the fact the table given is an example of a Contingency Table, I thought it appropriate to contingency function chi2_contingency(observed, correction=True, lambda_=None).[2].  Only the observed is needed in this case.\n",
    "\n",
    "This function returns the test statistic, p-value, degree of freedom and expected frequencies.  Only the first 2 are necessary for this task.\n",
    "\n",
    "\n",
    "***\n",
    "- .[1] Documentation for scipy.stats, https://docs.scipy.org/doc/scipy/reference/stats.html  \n",
    "- .[2] Function for Chi-square test of independence of variables in a contingency table, https://docs.scipy.org/doc/scipy/reference/generated/scipy.stats.chi2_contingency.html#scipy.stats.chi2_contingency\n",
    "***"
   ]
  },
  {
   "cell_type": "code",
   "execution_count": 4,
   "metadata": {},
   "outputs": [
    {
     "name": "stdout",
     "output_type": "stream",
     "text": [
      "Approximate Chi-squared value: 24.6\n",
      "Actual Chi-squared value: 24.571202858582602\n",
      "\n",
      "P-Value: 0.0004098425861096692\n",
      "P_Value: 0.00\n"
     ]
    }
   ],
   "source": [
    "#Statistics package\n",
    "import scipy.stats as ss\n",
    "\n",
    "#Observed Data\n",
    "obsData = [[90, 30, 30],\n",
    "         [60, 50, 40],\n",
    "         [104, 51, 45],\n",
    "         [95, 20, 35]]\n",
    "\n",
    "#chi2_contingency - Chi-square test of independence of variables in a contingency table\n",
    "stat, p, dof, expected  = ss.chi2_contingency(obsData)\n",
    "\n",
    "print(f\"Approximate Chi-squared value: {stat:0.1f}\")\n",
    "print('Actual Chi-squared value:', stat)\n",
    "\n",
    "print('\\nP-Value:', p)\n",
    "print(f\"P_Value: {p:0.2f}\")\n"
   ]
  },
  {
   "cell_type": "markdown",
   "metadata": {},
   "source": [
    "***\n",
    "# Task[3] - Excels functions for Standard Deviation"
   ]
  },
  {
   "cell_type": "markdown",
   "metadata": {},
   "source": [
    "## Setting data sets of Population and Samples\n",
    "***"
   ]
  },
  {
   "cell_type": "markdown",
   "metadata": {},
   "source": [
    "### STDEV.P\n",
    "***\n",
    "\n",
    "Returns an estimation for the standard deviation of a population, this is when the full data set is known.  An example of this if the data set was a sensis of the entire population of a country.\n",
    "\n",
    "STDEV.P calculates the standard deviation of a data set, it does this by using the \"n\" method which is as follows:\n",
    "\n",
    "<img style=\"float: left;\" src=\"images/StandardDeviation.gif\" width=\"200\" height=\"100\"/>\n"
   ]
  },
  {
   "cell_type": "markdown",
   "metadata": {},
   "source": [
    "### STDEV.S\n",
    "***\n",
    "\n",
    "Returns an estimation for the standard devaition of a sample, this is when you have part of a data set is known. An example of this would be a survey of set of people in a country, this may be region or other.\n",
    "\n",
    "STDEV.S uses a similiar formula to the one above but instead of dividing by \"N\" it divides \"N-1\".  This is known as \"Bessel's Correction\".[1]\n",
    "\n",
    "- .[1] Bessel's Correction, https://en.wikipedia.org/wiki/Bessel%27s_correction\n"
   ]
  },
  {
   "cell_type": "code",
   "execution_count": 5,
   "metadata": {},
   "outputs": [],
   "source": [
    "# Efficient numerical arrays.\n",
    "import numpy as np\n",
    "\n",
    "# Plotting.\n",
    "import matplotlib.pyplot as plt\n",
    "\n",
    "# Fancier plotting.\n",
    "import seaborn as sns\n",
    "\n",
    "# Data frames\n",
    "import pandas as pd"
   ]
  },
  {
   "cell_type": "markdown",
   "metadata": {},
   "source": [
    "Documentation on how to create a random set of data to act as the population. https://numpy.org/doc/stable/reference/random/generated/numpy.random.normal.html"
   ]
  },
  {
   "cell_type": "code",
   "execution_count": 52,
   "metadata": {},
   "outputs": [
    {
     "name": "stdout",
     "output_type": "stream",
     "text": [
      "\n",
      "Part of the Population Data\n",
      "\n",
      "   Population     Value\n",
      "0           A  0.886726\n",
      "1           A  1.491464\n",
      "2           A  1.118450\n",
      "3           A  1.352971\n",
      "4           A  0.632136\n",
      "..        ...       ...\n",
      "45          A  0.275282\n",
      "46          A  1.015709\n",
      "47          A  1.523150\n",
      "48          A  0.879914\n",
      "49          A  1.390089\n",
      "\n",
      "[50 rows x 2 columns]\n"
     ]
    }
   ],
   "source": [
    "'''\n",
    "Create a random data set for the population.\n",
    "'''\n",
    "\n",
    "# Setting the mean, standard deviation and size of populaiton\n",
    "m_a, s_a = 1.0, 0.4\n",
    "N = 50\n",
    "\n",
    "# Population data set\n",
    "a = np.random.normal(m_a, s_a, N)\n",
    "\n",
    "# Skick sample in data frame.\n",
    "df = pd.DataFrame({'Population': ['A'] * len(a), 'Value': a})\n",
    "pd.set_option('max_rows', 10)\n",
    "\n",
    "# Printing the population data set\n",
    "print(df)"
   ]
  },
  {
   "cell_type": "code",
   "execution_count": 7,
   "metadata": {},
   "outputs": [
    {
     "data": {
      "image/png": "[encoded data removed]",
      "text/plain": [
       "<Figure size 360x360 with 1 Axes>"
      ]
     },
     "metadata": {
      "needs_background": "light"
     },
     "output_type": "display_data"
    }
   ],
   "source": [
    "# Plot of Population.\n",
    "sns.catplot(x='Population', y='Value', jitter=False, data=df);"
   ]
  },
  {
   "cell_type": "code",
   "execution_count": 8,
   "metadata": {},
   "outputs": [
    {
     "name": "stdout",
     "output_type": "stream",
     "text": [
      "Standard Deviation of Population A: 0.3755\n"
     ]
    }
   ],
   "source": [
    "'''\n",
    "Standard deviation of population using the equivalent of Excels STDEV.P.\n",
    "'''\n",
    "# Standard deviation for population\n",
    "sd = np.std(a)\n",
    "\n",
    "print(f\"Standard Deviation of Population A: {sd:0.4f}\")"
   ]
  },
  {
   "cell_type": "markdown",
   "metadata": {},
   "source": [
    "***\n",
    "Documentation to get samples from the given population. https://docs.scipy.org/doc/numpy-1.10.4/reference/generated/numpy.random.choice.html"
   ]
  },
  {
   "cell_type": "code",
   "execution_count": 51,
   "metadata": {},
   "outputs": [
    {
     "name": "stdout",
     "output_type": "stream",
     "text": [
      "\n",
      "Part of the Sample Data\n",
      "\n",
      "   Sample     Value\n",
      "0       1  1.256485\n",
      "1       1  1.458232\n",
      "2       1  1.601504\n",
      "3       1  1.257846\n",
      "4       1  1.517519\n",
      "..    ...       ...\n",
      "45      2  1.256485\n",
      "46      2  1.002595\n",
      "47      2  1.461471\n",
      "48      2  0.880891\n",
      "49      2  0.696334\n",
      "\n",
      "[50 rows x 2 columns]\n"
     ]
    }
   ],
   "source": [
    "'''\n",
    "Getting random sample sets from population.\n",
    "'''\n",
    "\n",
    "# Setting size of sample\n",
    "n1, n2 = 30, 20\n",
    "\n",
    "# Sample data sets from poplution\n",
    "sample_1 = np.random.choice(a, n1, replace=False)\n",
    "sample_2 = np.random.choice(a, n2, replace=False)\n",
    "\n",
    "# Stick both samples in one data frame.\n",
    "sdf = pd.DataFrame({'Sample': ['1'] * len(sample_1) + ['2'] * len(sample_2), 'Value': np.hstack([sample_1,sample_2])})\n",
    "pd.set_option('max_rows', 10)\n",
    "\n",
    "print(sdf)"
   ]
  },
  {
   "cell_type": "code",
   "execution_count": 10,
   "metadata": {},
   "outputs": [
    {
     "data": {
      "image/png": "[encoded data removed]",
      "text/plain": [
       "<Figure size 360x360 with 1 Axes>"
      ]
     },
     "metadata": {
      "needs_background": "light"
     },
     "output_type": "display_data"
    }
   ],
   "source": [
    "# Plot \n",
    "sns.catplot(x='Sample', y='Value', jitter=False, data=sdf);"
   ]
  },
  {
   "cell_type": "code",
   "execution_count": 11,
   "metadata": {},
   "outputs": [
    {
     "name": "stdout",
     "output_type": "stream",
     "text": [
      "Sample 1:\n",
      "Standard Deviation using STDEV.P: 0.3538\n",
      "Standard Deviation using STDEV.S: 0.3598\n"
     ]
    }
   ],
   "source": [
    "'''\n",
    "Standard deviation of sample 1 using the equivalent of Excels STDEV.P and STDEV.S.\n",
    "'''\n",
    "\n",
    "# Standard deviation using STDEV.P\n",
    "sdp_samp_1 = np.sqrt(np.sum((sample_1 - np.mean(sample_1))**2)/len(sample_1))\n",
    "# Standard deviation using STDEV.S\n",
    "sds_samp_1 = np.sqrt(np.sum((sample_1 - np.mean(sample_1))**2)/(len(sample_1)-1))\n",
    "\n",
    "\n",
    "print(\"Sample 1:\")\n",
    "print(f\"Standard Deviation using STDEV.P: {sdp_samp_1:0.4f}\")\n",
    "print(f\"Standard Deviation using STDEV.S: {sds_samp_1:0.4f}\")"
   ]
  },
  {
   "cell_type": "code",
   "execution_count": 12,
   "metadata": {},
   "outputs": [
    {
     "name": "stdout",
     "output_type": "stream",
     "text": [
      "Sample 2:\n",
      "Standard Deviation using STDEV.P: 0.4026\n",
      "Standard Deviation using STDEV.S: 0.4131\n"
     ]
    }
   ],
   "source": [
    "'''\n",
    "Standard deviation of sample 2 using the equivalent of Excels STDEV.P and STDEV.S.\n",
    "'''\n",
    "\n",
    "# Standard deviation using STDEV.P\n",
    "sdp_samp_2 = np.sqrt(np.sum((sample_2 - np.mean(sample_2))**2)/len(sample_2))\n",
    "# Standard deviation using STDEV.S\n",
    "sds_samp_2 = np.sqrt(np.sum((sample_2 - np.mean(sample_2))**2)/(len(sample_2)-1))\n",
    "\n",
    "print(\"Sample 2:\")\n",
    "print(f\"Standard Deviation using STDEV.P: {sdp_samp_2:0.4f}\")\n",
    "print(f\"Standard Deviation using STDEV.S: {sds_samp_2:0.4f}\")  "
   ]
  },
  {
   "cell_type": "markdown",
   "metadata": {},
   "source": [
    "### Conclusion\n",
    "***\n",
    "\n",
    "In this example, the Standard Deviation of the entire population using STDEV.P is \"0.3666\".\n",
    "\n",
    "First sample STDEV.P = \"0.3299\", STDEV.S = \"0.3355\".<br>\n",
    "Second sample STDEV.P = \"0.3516\", STDEV.S = \"0.3607\".\n",
    "\n",
    "In both of these situation using STDEV.S gave us a standard deviation that was closer to the populations true standard deviation.\n",
    "\n",
    "The reasoning behind this is that the \"n-1 or STDEV.S\" method gives a more generalised idea as its is used as an esitmation for the standard deviation of the entire population.  On the otherhand the \"n or STDEV.P\" gives an exact value of the standard deviation of the sample itself."
   ]
  },
  {
   "cell_type": "markdown",
   "metadata": {},
   "source": [
    "# Task[4] - Iris data set"
   ]
  },
  {
   "cell_type": "code",
   "execution_count": 13,
   "metadata": {},
   "outputs": [],
   "source": [
    "# Numerical arrays.\n",
    "import numpy as np\n",
    "\n",
    "# Plotting.\n",
    "import matplotlib.pyplot as plt\n",
    "\n",
    "# Machine learning - kmeans.\n",
    "import sklearn.cluster as skcl\n",
    "\n",
    "# Datasets - Iris.\n",
    "import sklearn.datasets as skds"
   ]
  },
  {
   "cell_type": "markdown",
   "metadata": {},
   "source": [
    "Wikipedia article on Iris data set. https://en.wikipedia.org/wiki/Iris_flower_data_set#<br>\n",
    "Documentation used to load the Iris data set. https://scikit-learn.org/stable/modules/generated/sklearn.datasets.load_iris.html"
   ]
  },
  {
   "cell_type": "code",
   "execution_count": 14,
   "metadata": {},
   "outputs": [
    {
     "data": {
      "text/plain": [
       "[<matplotlib.lines.Line2D at 0x2161861e1f0>,\n",
       " <matplotlib.lines.Line2D at 0x2161861e2e0>,\n",
       " <matplotlib.lines.Line2D at 0x2161861e280>,\n",
       " <matplotlib.lines.Line2D at 0x2161861e370>]"
      ]
     },
     "execution_count": 14,
     "metadata": {},
     "output_type": "execute_result"
    },
    {
     "data": {
      "image/png": "[encoded data removed]",
      "text/plain": [
       "<Figure size 432x288 with 1 Axes>"
      ]
     },
     "metadata": {
      "needs_background": "light"
     },
     "output_type": "display_data"
    }
   ],
   "source": [
    "# Iris data set.\n",
    "iris = skds.load_iris()\n",
    "iris\n",
    "\n",
    "# Set variables for ease of use\n",
    "dataSet = iris.data\n",
    "target = iris.target\n",
    "target_names = iris.target_names\n",
    "\n",
    "# Plotting the data set.\n",
    "plt.plot(dataSet, target, 'x')"
   ]
  },
  {
   "cell_type": "markdown",
   "metadata": {},
   "source": [
    "https://scikit-learn.org/stable/modules/generated/sklearn.cluster.KMeans.html"
   ]
  },
  {
   "cell_type": "code",
   "execution_count": 15,
   "metadata": {},
   "outputs": [],
   "source": [
    "# Perform kmeans fitting.\n",
    "kmeans = skcl.KMeans(n_clusters=3, random_state=0).fit(dataSet)"
   ]
  },
  {
   "cell_type": "markdown",
   "metadata": {},
   "source": [
    "***\n",
    "The labels are used by kmeans to estimate which group each object in the data set belongs to.  In this case there is 3 possible group. 0 represents \"setosa\", 1 represents \"versicolor\" and 2 represents \"virginica\"."
   ]
  },
  {
   "cell_type": "code",
   "execution_count": 16,
   "metadata": {},
   "outputs": [
    {
     "data": {
      "text/plain": [
       "array([1, 1, 1, 1, 1, 1, 1, 1, 1, 1, 1, 1, 1, 1, 1, 1, 1, 1, 1, 1, 1, 1,\n",
       "       1, 1, 1, 1, 1, 1, 1, 1, 1, 1, 1, 1, 1, 1, 1, 1, 1, 1, 1, 1, 1, 1,\n",
       "       1, 1, 1, 1, 1, 1, 2, 2, 0, 2, 2, 2, 2, 2, 2, 2, 2, 2, 2, 2, 2, 2,\n",
       "       2, 2, 2, 2, 2, 2, 2, 2, 2, 2, 2, 0, 2, 2, 2, 2, 2, 2, 2, 2, 2, 2,\n",
       "       2, 2, 2, 2, 2, 2, 2, 2, 2, 2, 2, 2, 0, 2, 0, 0, 0, 0, 2, 0, 0, 0,\n",
       "       0, 0, 0, 2, 2, 0, 0, 0, 0, 2, 0, 2, 0, 2, 0, 0, 2, 2, 0, 0, 0, 0,\n",
       "       0, 2, 0, 0, 0, 0, 2, 0, 0, 0, 2, 0, 0, 0, 2, 0, 0, 2])"
      ]
     },
     "execution_count": 16,
     "metadata": {},
     "output_type": "execute_result"
    }
   ],
   "source": [
    "# Labels of the point.\n",
    "labels = kmeans.labels_\n",
    "labels"
   ]
  },
  {
   "cell_type": "markdown",
   "metadata": {},
   "source": [
    "***\n",
    "Each grouping represents the type of flower as stated already.  The different colour present represent the factors of the flower and commented below."
   ]
  },
  {
   "cell_type": "code",
   "execution_count": 18,
   "metadata": {},
   "outputs": [
    {
     "data": {
      "text/plain": [
       "[<matplotlib.lines.Line2D at 0x21618ad4dc0>]"
      ]
     },
     "execution_count": 18,
     "metadata": {},
     "output_type": "execute_result"
    },
    {
     "data": {
      "image/png": "[encoded data removed]",
      "text/plain": [
       "<Figure size 432x288 with 1 Axes>"
      ]
     },
     "metadata": {
      "needs_background": "light"
     },
     "output_type": "display_data"
    }
   ],
   "source": [
    "plt.plot(dataSet[:,0], labels, 'bx') # sepal length\n",
    "plt.plot(dataSet[:,1], labels, 'yx') # sepal width\n",
    "plt.plot(dataSet[:,2], labels, 'gx') # petal length\n",
    "plt.plot(dataSet[:,3], labels, 'rx') # petal width"
   ]
  },
  {
   "cell_type": "markdown",
   "metadata": {},
   "source": [
    "***\n",
    "Predict is used in kmeans to predict where the sample value should go.  As seen in the following diagram, represented in black, kmeans is able to place the values into the cluster in which they closet resemble."
   ]
  },
  {
   "cell_type": "code",
   "execution_count": 19,
   "metadata": {},
   "outputs": [
    {
     "data": {
      "text/plain": [
       "array([1, 2, 0])"
      ]
     },
     "execution_count": 19,
     "metadata": {},
     "output_type": "execute_result"
    }
   ],
   "source": [
    "# Setting new values to be tested\n",
    "newvals = np.array([[5,3,1.4,0.5], [7.2,3.2,4,1], [7, 2.8, 6, 2.4]])\n",
    "# Predict the closest cluster each sample in dataSet belongs to.\n",
    "predictions = kmeans.predict(newvals)\n",
    "predictions"
   ]
  },
  {
   "cell_type": "code",
   "execution_count": 20,
   "metadata": {},
   "outputs": [
    {
     "data": {
      "text/plain": [
       "[<matplotlib.lines.Line2D at 0x21617a5afa0>]"
      ]
     },
     "execution_count": 20,
     "metadata": {},
     "output_type": "execute_result"
    },
    {
     "data": {
      "image/png": "[encoded data removed]",
      "text/plain": [
       "<Figure size 432x288 with 1 Axes>"
      ]
     },
     "metadata": {
      "needs_background": "light"
     },
     "output_type": "display_data"
    }
   ],
   "source": [
    "plt.plot(dataSet[:,0], labels, 'bx') # sepal length\n",
    "plt.plot(dataSet[:,1], labels, 'yx') # sepal width\n",
    "plt.plot(dataSet[:,2], labels, 'gx') # petal length\n",
    "plt.plot(dataSet[:,3], labels, 'rx') # petal width\n",
    "\n",
    "# Plotting new values\n",
    "plt.plot(newvals[:,0], predictions, 'kD')\n",
    "plt.plot(newvals[:,1], predictions, 'kD')\n",
    "plt.plot(newvals[:,2], predictions, 'kD')\n",
    "plt.plot(newvals[:,3], predictions, 'kD')"
   ]
  },
  {
   "cell_type": "markdown",
   "metadata": {},
   "source": [
    "***\n",
    "Using the \"cluster_centers_\" kmeans is able to calculate the center of each cluster present in each group.  The use of the predict method here was fit these center value in the correct group position and seen in the plot graph."
   ]
  },
  {
   "cell_type": "code",
   "execution_count": 93,
   "metadata": {},
   "outputs": [
    {
     "name": "stdout",
     "output_type": "stream",
     "text": [
      "[[6.85       3.07368421 5.74210526 2.07105263]\n",
      " [5.006      3.428      1.462      0.246     ]\n",
      " [5.9016129  2.7483871  4.39354839 1.43387097]] \n",
      "\n",
      "[0 1 2]\n"
     ]
    }
   ],
   "source": [
    "# The centres of clusters.\n",
    "cent = kmeans.cluster_centers_\n",
    "centVal = kmeans.predict(cent)\n",
    "print(cent,  \"\\n\")\n",
    "print(centVal)"
   ]
  },
  {
   "cell_type": "code",
   "execution_count": 22,
   "metadata": {},
   "outputs": [
    {
     "data": {
      "text/plain": [
       "[<matplotlib.lines.Line2D at 0x21617a1b670>]"
      ]
     },
     "execution_count": 22,
     "metadata": {},
     "output_type": "execute_result"
    },
    {
     "data": {
      "image/png": "[encoded data removed]",
      "text/plain": [
       "<Figure size 432x288 with 1 Axes>"
      ]
     },
     "metadata": {
      "needs_background": "light"
     },
     "output_type": "display_data"
    }
   ],
   "source": [
    "# Data set values.\n",
    "plt.plot(dataSet[:,0], labels, 'bx') # sepal length\n",
    "plt.plot(dataSet[:,1], labels, 'yx') # sepal width\n",
    "plt.plot(dataSet[:,2], labels, 'gx') # petal length\n",
    "plt.plot(dataSet[:,3], labels, 'rx') # petal width\n",
    "\n",
    "# Predicted values.\n",
    "plt.plot(newvals[:,0], predictions, 'kD')\n",
    "plt.plot(newvals[:,1], predictions, 'kD')\n",
    "plt.plot(newvals[:,2], predictions, 'kD')\n",
    "plt.plot(newvals[:,3], predictions, 'kD')\n",
    "\n",
    "# Center values of each cluster in data set.\n",
    "plt.plot(cent[:,0], centVal, 'co')\n",
    "plt.plot(cent[:,1], centVal, 'co')\n",
    "plt.plot(cent[:,2], centVal, 'co')\n",
    "plt.plot(cent[:,3], centVal, 'co')"
   ]
  },
  {
   "cell_type": "markdown",
   "metadata": {},
   "source": [
    "***\n",
    "Documentation for crosstab in pandas. https://pandas.pydata.org/pandas-docs/stable/reference/api/pandas.crosstab.html\n",
    "<br><br>\n",
    "Using crosstab it is possible to check the accurancy of \"kmeans.labels\".  This is done by comparing this to the way the \"iris.target\" method present in the iris data set has grouped the values.\n",
    "<br><br>\n",
    "Kmeans Grouping:<br>\n",
    "Setosa - all have been grouped the same as Iris data set.<br>\n",
    "Versicolor - all but too have been grouped correctly, this is an expectable amount of accuracy.<br>\n",
    "Virginica - 12 have been grouped differently, overall this is not extreme.\n",
    "<br><br>\n",
    "Kmeans seem to be quite accurate in the way it groups the data set and in its predictions.  The method is not perfect as seen by the outliers discussed and compared below.  Overall this about of discrepancy is acceptable"
   ]
  },
  {
   "cell_type": "code",
   "execution_count": 91,
   "metadata": {},
   "outputs": [
    {
     "name": "stdout",
     "output_type": "stream",
     "text": [
      "['setosa' 'versicolor' 'virginica'] \n",
      "\n",
      "col_0   0   1   2\n",
      "row_0            \n",
      "0       0  50   0\n",
      "1       2   0  48\n",
      "2      36   0  14\n"
     ]
    }
   ],
   "source": [
    "# Data frames\n",
    "import pandas as pd\n",
    "# Comparing the target given and the estimation\n",
    "df = pd.crosstab(target, labels)\n",
    "\n",
    "print(target_names, \"\\n\")\n",
    "print(df)"
   ]
  },
  {
   "cell_type": "markdown",
   "metadata": {},
   "source": [
    "The accurrency of kmeans means can be seen above when comparing the actual and the assumed, in this case the target and labels."
   ]
  },
  {
   "cell_type": "markdown",
   "metadata": {},
   "source": [
    "***\n",
    "# End"
   ]
  }
 ],
 "metadata": {
  "kernelspec": {
   "display_name": "Python 3",
   "language": "python",
   "name": "python3"
  },
  "language_info": {
   "codemirror_mode": {
    "name": "ipython",
    "version": 3
   },
   "file_extension": ".py",
   "mimetype": "text/x-python",
   "name": "python",
   "nbconvert_exporter": "python",
   "pygments_lexer": "ipython3",
   "version": "3.8.5"
  }
 },
 "nbformat": 4,
 "nbformat_minor": 4
}
